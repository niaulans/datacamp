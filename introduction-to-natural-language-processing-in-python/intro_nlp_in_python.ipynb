{
 "cells": [
  {
   "cell_type": "markdown",
   "metadata": {},
   "source": [
    "## 1. Regular expressions & word tokenization"
   ]
  },
  {
   "cell_type": "markdown",
   "metadata": {},
   "source": [
    "### Introduction to regular expressions"
   ]
  },
  {
   "cell_type": "markdown",
   "metadata": {},
   "source": [
    "**What is Natural Language Processing?**\n",
    "- Filed of study on making sense of language \n",
    "- Using statistics and computers\n",
    "- Learn the basics of NLP\n",
    "- Topic indentification\n",
    "- Text classification\n",
    "- NLP applications: \n",
    "    - Chatbots\n",
    "    - Translation\n",
    "    - Sentiment analysis\n",
    "    - etc\n",
    "\n",
    "---\n",
    "**What exactly are regular expressions/ regex?**\n",
    "- Strings with a special syntax\n",
    "- Allow us to match patterns in other strings\n",
    "- Applications of regular expressions: \n",
    "- Find all web links in a document\n",
    "- Parse email addresses\n",
    "- Remove/replace unwanted characters\n",
    "\n",
    "---\n",
    "**Common regex patterns**\n",
    "pattern | matches | example\n",
    ":-: | :-: | :-: \n",
    "\\\\w+ | word | 'Magic'\n",
    "\\\\d | digit | 9\n",
    "\\\\s | space | ''\n",
    ".* | wildcard | 'username78' match semua letter dan symbol\n",
    "tanda + or * | greedy match | 'aaa'\n",
    "\\\\S | not space | 'no_space'\n",
    "[a-z] | lowercase group | 'abcdefg'\n",
    "\n",
    "---\n",
    "**Python's re module**\n",
    "- re module\n",
    "- split : split a string on regex\n",
    "- findall : find all patterns in a string\n",
    "- search : search for a pattern\n",
    "- match : match an entire string or substring based on a pattern\n",
    "- Pattern first and the string second\n",
    "- May return an iterator, string, or match object"
   ]
  },
  {
   "cell_type": "code",
   "execution_count": 1,
   "metadata": {},
   "outputs": [
    {
     "data": {
      "text/plain": [
       "<re.Match object; span=(0, 3), match='abc'>"
      ]
     },
     "execution_count": 1,
     "metadata": {},
     "output_type": "execute_result"
    }
   ],
   "source": [
    "import re\n",
    "re.match('abc', 'abcdef')"
   ]
  },
  {
   "cell_type": "code",
   "execution_count": 2,
   "metadata": {},
   "outputs": [
    {
     "data": {
      "text/plain": [
       "<re.Match object; span=(0, 2), match='hi'>"
      ]
     },
     "execution_count": 2,
     "metadata": {},
     "output_type": "execute_result"
    }
   ],
   "source": [
    "word_regex = '\\w+' # Match kata pertama yang ditemukan\n",
    "re.match(word_regex, 'hi there!')"
   ]
  },
  {
   "cell_type": "code",
   "execution_count": 5,
   "metadata": {},
   "outputs": [
    {
     "data": {
      "text/plain": [
       "['Split', 'on', 'spaces']"
      ]
     },
     "execution_count": 5,
     "metadata": {},
     "output_type": "execute_result"
    }
   ],
   "source": [
    "re.split('\\s+', 'Split on spaces')"
   ]
  },
  {
   "cell_type": "code",
   "execution_count": 12,
   "metadata": {},
   "outputs": [
    {
     "data": {
      "text/plain": [
       "['Let', 's', 'write', 'Regex']"
      ]
     },
     "execution_count": 12,
     "metadata": {},
     "output_type": "execute_result"
    }
   ],
   "source": [
    "my_string = \"Let's write Regex!\"\n",
    "PATTERN = r\"\\w+\"\n",
    "re.findall(PATTERN, my_string)"
   ]
  },
  {
   "cell_type": "markdown",
   "metadata": {},
   "source": [
    "#### re.split() and re.findall()"
   ]
  },
  {
   "cell_type": "code",
   "execution_count": 5,
   "metadata": {},
   "outputs": [
    {
     "name": "stdout",
     "output_type": "stream",
     "text": [
      "Split by .?!: \n",
      " [\"Let's write RegEx\", \"  Won't that be fun\", '  I sure think so', '  Can you find 4 sentences', '  Or perhaps, all 19 words', '']\n",
      "Find all capitalized words: \n",
      " ['Let', 'RegEx', 'Won', 'Can', 'Or']\n",
      "Split by spaces: \n",
      " [\"Let's\", 'write', 'RegEx!', \"Won't\", 'that', 'be', 'fun?', 'I', 'sure', 'think', 'so.', 'Can', 'you', 'find', '4', 'sentences?', 'Or', 'perhaps,', 'all', '19', 'words?']\n",
      "Find digits: \n",
      " ['4', '19']\n"
     ]
    }
   ],
   "source": [
    "import re\n",
    "\n",
    "my_string = \"Let's write RegEx!  Won't that be fun?  I sure think so.  Can you find 4 sentences?  Or perhaps, all 19 words?\"\n",
    "sentence_endings = r\"[.?!]\"\n",
    "print(\"Split by .?!: \\n\" , re.split(sentence_endings, my_string))\n",
    "\n",
    "capitalized_words = r\"[A-Z]\\w+\"\n",
    "print(\"Find all capitalized words: \\n\" , re.findall(capitalized_words, my_string))\n",
    "\n",
    "spaces = r\"\\s+\"\n",
    "print(\"Split by spaces: \\n\" , re.split(spaces, my_string))\n",
    "\n",
    "digits = r\"\\d+\"\n",
    "print(\"Find digits: \\n\" , re.findall(digits, my_string))\n"
   ]
  },
  {
   "cell_type": "markdown",
   "metadata": {},
   "source": [
    "### Introduction to tokenization"
   ]
  },
  {
   "cell_type": "markdown",
   "metadata": {},
   "source": [
    "**What is tokenization?**\n",
    "- Turning a string or document into tokens (smaller chunks)\n",
    "- One step in preparing a text for nlp\n",
    "- Many different theories and rules \n",
    "- can create your own rules using regular expressions\n",
    "- Some examples: \n",
    "    - Breaking out words or sentences\n",
    "    - Separating punctuation\n",
    "    - Separating all hashtag in a tweet\n",
    "\n",
    "---\n",
    "**nltk library**\n",
    "- nltk: naural language toolkit\n",
    "\n",
    "--- \n",
    "**Why tokenize?** \n",
    "- Easier to map part of speech\n",
    "- Matching common words\n",
    "- Removing unwanted tokens\n",
    "\n",
    "---\n",
    "**Other nltk tokenizers**\n",
    "- sent_tokenize: tokenize a document into sentences\n",
    "- regexp_tokenize: tokenize a string or document based on a regex pattern\n",
    "- TweetTokenizer: special class just for tweet tokenization, separate hashtags, mentions and lots of exclamation points\n",
    "\n",
    "---\n",
    "**More regex practice** \n",
    "- Difference between re.search() and re.match()\n",
    "- match mencoba mencocokkan string sampai tidak cocok lagi\n",
    "- search akan lihat seluruh string untuk mencocokkan"
   ]
  },
  {
   "cell_type": "code",
   "execution_count": 6,
   "metadata": {},
   "outputs": [
    {
     "data": {
      "text/plain": [
       "['Hi', 'there', '!']"
      ]
     },
     "execution_count": 6,
     "metadata": {},
     "output_type": "execute_result"
    }
   ],
   "source": [
    "from nltk.tokenize import word_tokenize\n",
    "word_tokenize(\"Hi there!\")"
   ]
  },
  {
   "cell_type": "code",
   "execution_count": 45,
   "metadata": {},
   "outputs": [
    {
     "name": "stdout",
     "output_type": "stream",
     "text": [
      "SCENE 1: [wind] [clop clop clop] \n",
      "KING ARTHUR: Whoa there!  [clop clop clop] \n",
      "SOLDIER #1: Halt!  Who goes there?\n",
      "ARTHUR: It is I, Arthur, son of Uther Pendragon, from the castle of Camelot.  King of the Britons, defeator of the Saxons, sovereign of all England!\n",
      "SOLDIER #1: Pull the other one!\n",
      "ARTHUR: I am, ...  and this is my trusty servant Patsy.  We have ridden the length and breadth of the land in search of knights who will join me in my court at Camelot.  I must speak with your lord and master.\n",
      "SOLDIER #1: What?  Ridden on a horse?\n",
      "ARTHUR: Yes!\n",
      "SOLDIER #1: You're using coconuts!\n",
      "ARTHUR: What?\n",
      "SOLDIER #1: You've got two empty halves of coconut and you're bangin' 'em together.\n",
      "ARTHUR: So?  We have ridden since the snows of winter covered this land, through the kingdom of Mercea, through--\n",
      "SOLDIER #1: Where'd you get the coconuts?\n",
      "ARTHUR: We found them.\n",
      "SOLDIER #1: Found them?  In Mercea?  The coconut's tropical!\n",
      "ARTHUR: What do you mean?\n",
      "SOLDIER #1: Well, this is a temperate zone.\n",
      "ARTHUR: The swallow may fly south with the sun or the house martin or the plover may seek warmer climes in winter, yet these are not strangers to our land?\n",
      "SOLDIER #1: Are you suggesting coconuts migrate?\n",
      "ARTHUR: Not at all.  They could be carried.\n",
      "SOLDIER #1: What?  A swallow carrying a coconut?\n",
      "ARTHUR: It could grip it by the husk!\n",
      "SOLDIER #1: It's not a question of where he grips it!  It's a simple question of weight ratios!  A five ounce bird could not carry a one pound coconut.\n",
      "ARTHUR: Well, it doesn't matter.  Will you go and tell your master that Arthur from the Court of Camelot is here.\n",
      "SOLDIER #1: Listen.  In order to maintain air-speed velocity, a swallow needs to beat its wings forty-three times every second, right?\n",
      "ARTHUR: Please!\n",
      "SOLDIER #1: Am I right?\n",
      "ARTHUR: I'm not interested!\n",
      "SOLDIER #2: It could be carried by an African swallow!\n",
      "SOLDIER #1: Oh, yeah, an African swallow maybe, but not a European swallow.  That's my point.\n",
      "SOLDIER #2: Oh, yeah, I agree with that.\n",
      "ARTHUR: Will you ask your master if he wants to join my court at Camelot?!\n",
      "SOLDIER #1: But then of course a-- African swallows are non-migratory.\n",
      "SOLDIER #2: Oh, yeah...\n",
      "SOLDIER #1: So they couldn't bring a coconut back anyway...  [clop clop clop] \n",
      "SOLDIER #2: Wait a minute!  Supposing two swallows carried it together?\n",
      "SOLDIER #1: No, they'd have to have it on a line.\n",
      "SOLDIER #2: Well, simple!  They'd just use a strand of creeper!\n",
      "SOLDIER #1: What, held under the dorsal guiding feathers?\n",
      "SOLDIER #2: Well, why not?\n"
     ]
    }
   ],
   "source": [
    "file = r'D:\\Pemrograman\\Data-Science\\Datacamp\\Code\\Natural Language Processing in Python\\Introduction to NLP in Python\\scene1.txt'\n",
    "with open(file, 'r') as f:\n",
    "    text = f.read()\n",
    "    print(text)"
   ]
  },
  {
   "cell_type": "code",
   "execution_count": 54,
   "metadata": {},
   "outputs": [
    {
     "name": "stdout",
     "output_type": "stream",
     "text": [
      "{'back', \"'ve\", 'That', 'Wait', 'house', 'point', 'right', 'What', 'Am', 'SOLDIER', 'clop', 'KING', 'then', \"'re\", 'matter', \"'s\", 'here', \"'m\", 'them', 'Oh', 'your', 'defeator', 'Saxons', 'on', 'son', '.', 'at', 'kingdom', 'maintain', 'European', 'you', \"'em\", 'They', '2', 'grip', 'he', 'non-migratory', 'ARTHUR', 'under', 'of', 'Pendragon', 'a', 'is', 'lord', 'south', 'minute', 'where', 'simple', 'and', 'master', 'swallow', '!', 'they', 'Pull', 'an', 'held', '1', 'carry', 'Halt', 'snows', 'needs', '?', 'Supposing', 'together', '[', 'five', 'this', 'Well', 'join', 'We', 'through', 'feathers', '#', \"'\", 'breadth', 'martin', 'Whoa', 'carried', 'by', 'Britons', 'use', 'Camelot', 'ratios', 'will', 'SCENE', 'coconuts', 'to', 'forty-three', 'every', 'The', 'there', 'tropical', 'do', 'velocity', 'my', 'warmer', 'strangers', 'A', 'other', 'sun', 'could', 'wind', 'Court', 'but', 'strand', 'temperate', 'ask', 'me', 'plover', 'or', 'trusty', '--', 'So', 'its', 'interested', 'course', 'pound', 'be', 'one', 'not', 'Not', 'second', 'search', \"'d\", 'found', 'castle', 'winter', 'Yes', 'climes', \"n't\", 'I', 'mean', 'wings', 'It', 'land', 'that', 'speak', 'anyway', 'Who', 'are', 'husk', 'sovereign', 'tell', ':', 'covered', 'air-speed', 'migrate', 'horse', 'knights', 'am', 'does', 'dorsal', 'Uther', 'question', 'bring', 'zone', 'bird', 'two', 'yeah', 'from', 'Listen', 'it', 'must', 'Ridden', 'these', 'Patsy', 'maybe', 'the', 'But', 'length', 'servant', 'why', 'grips', 'creeper', 'Mercea', 'empty', 'since', 'beat', '...', 'swallows', 'coconut', 'using', 'our', 'may', 'halves', 'times', 'line', 'court', 'fly', 'King', 'Found', 'Are', 'yet', 'weight', 'go', 'suggesting', 'England', 'ounce', 'just', 'got', 'carrying', 'In', ']', 'have', 'bangin', 'get', 'if', 'ridden', 'all', 'goes', 'Where', 'seek', 'order', 'You', 'agree', 'with', 'guiding', 'No', 'Will', 'African', 'who', ',', 'Arthur', 'Please', 'wants', 'in'}\n"
     ]
    }
   ],
   "source": [
    "from nltk.tokenize import sent_tokenize, word_tokenize\n",
    "\n",
    "sentences = sent_tokenize(text)\n",
    "tokenized_sent = word_tokenize(sentences[3])\n",
    "unique_tokens = set(word_tokenize(text))\n",
    "print(unique_tokens)"
   ]
  },
  {
   "cell_type": "code",
   "execution_count": 55,
   "metadata": {},
   "outputs": [
    {
     "name": "stdout",
     "output_type": "stream",
     "text": [
      "580 588\n"
     ]
    }
   ],
   "source": [
    "# Search for the first occurencne of \"accounts\" in scene_one\n",
    "match = re.search(\"coconuts\", text)\n",
    "print(match.start(), match.end())"
   ]
  },
  {
   "cell_type": "code",
   "execution_count": 57,
   "metadata": {},
   "outputs": [
    {
     "name": "stdout",
     "output_type": "stream",
     "text": [
      "<re.Match object; span=(9, 32), match='[wind] [clop clop clop]'>\n"
     ]
    }
   ],
   "source": [
    "pattern1 = r\"\\[.*\\]\"\n",
    "print(re.search(pattern1, text))"
   ]
  },
  {
   "cell_type": "code",
   "execution_count": 60,
   "metadata": {},
   "outputs": [
    {
     "name": "stdout",
     "output_type": "stream",
     "text": [
      "<re.Match object; span=(0, 7), match='ARTHUR:'>\n"
     ]
    }
   ],
   "source": [
    "pattern2 = r\"[\\w\\s]+:\"\n",
    "print(re.match(pattern2, sentences[3]))"
   ]
  },
  {
   "cell_type": "markdown",
   "metadata": {},
   "source": [
    "### Advances tokenization with NLTK and regex"
   ]
  },
  {
   "cell_type": "markdown",
   "metadata": {},
   "source": [
    "**Regex groups using or \"|\"**\n",
    "- OR is represented using |\n",
    "- can define a group using ()\n",
    "- can define explicit character range using []"
   ]
  },
  {
   "cell_type": "code",
   "execution_count": 1,
   "metadata": {},
   "outputs": [
    {
     "data": {
      "text/plain": [
       "['Nia', 'Ulan', 'Sari', '10']"
      ]
     },
     "execution_count": 1,
     "metadata": {},
     "output_type": "execute_result"
    }
   ],
   "source": [
    "import re\n",
    "\n",
    "match_digits_and_words = ('(\\d+|\\w+)')\n",
    "re.findall(match_digits_and_words, \"Nia Ulan Sari 10.\")\n"
   ]
  },
  {
   "cell_type": "markdown",
   "metadata": {},
   "source": [
    "**Regex ranges and groups**\n",
    "\n",
    "pattern | matches | example\n",
    ":-| :-| :-\n",
    "[A-Za-z]+ | upper and lowercase English alphabet | 'ABCDEFghijk'|\n",
    "[0-9] | numbers from 0 to 9 | 9\n",
    "[A-Za-z\\\\-\\\\.]+ | upper and lowercase English alphabet, - and . | 'My-website.com'\n",
    "(a-z) | a, - and z | 'a-z'\n",
    "(\\s+ or ,) | spaces or a comma | ','"
   ]
  },
  {
   "cell_type": "code",
   "execution_count": 4,
   "metadata": {},
   "outputs": [
    {
     "data": {
      "text/plain": [
       "<re.Match object; span=(0, 35), match='match lowercase spaces nums like 12'>"
      ]
     },
     "execution_count": 4,
     "metadata": {},
     "output_type": "execute_result"
    }
   ],
   "source": [
    "import re\n",
    "\n",
    "my_str = 'match lowercase spaces nums like 12, but no commas'\n",
    "re.match('[a-z0-9 ]+', my_str)"
   ]
  },
  {
   "cell_type": "code",
   "execution_count": 8,
   "metadata": {},
   "outputs": [
    {
     "data": {
      "text/plain": [
       "['SOLDIER',\n",
       " '#1',\n",
       " 'Found',\n",
       " 'them',\n",
       " 'In',\n",
       " 'Mercea',\n",
       " 'The',\n",
       " 'coconut',\n",
       " 's',\n",
       " 'tropical']"
      ]
     },
     "execution_count": 8,
     "metadata": {},
     "output_type": "execute_result"
    }
   ],
   "source": [
    "from nltk.tokenize import regexp_tokenize\n",
    "\n",
    "my_string = \"SOLDIER #1: Found them? In Mercea? The coconut's tropical!\"\n",
    "pattern = r\"(\\w+|#\\d|\\?\\!)\"\n",
    "x = regexp_tokenize(my_string, pattern)\n",
    "x"
   ]
  },
  {
   "cell_type": "code",
   "execution_count": 15,
   "metadata": {},
   "outputs": [
    {
     "name": "stdout",
     "output_type": "stream",
     "text": [
      "['#nlp', '#python']\n",
      "['@datacamp', '#nlp', '#python']\n"
     ]
    }
   ],
   "source": [
    "from nltk.tokenize import word_tokenize, regexp_tokenize, TweetTokenizer\n",
    "\n",
    "text = ['This is the best #nlp exercise ive found online! #python', '#NLP is super fun! <3 #learning', 'Thanks @datacamp :) #nlp #python']\n",
    "\n",
    "pattern1 = r\"#\\w+\"\n",
    "# pattern2 = r\"(#\\w+|@\\w+)\"\n",
    "pattern2 = r\"([@#]\\w+)\"\n",
    "hashtags = regexp_tokenize(text[0], pattern1)\n",
    "mention_hashtags = regexp_tokenize(text[-1], pattern2)\n",
    "print(hashtags)\n",
    "print(mention_hashtags)"
   ]
  },
  {
   "cell_type": "code",
   "execution_count": 13,
   "metadata": {},
   "outputs": [
    {
     "name": "stdout",
     "output_type": "stream",
     "text": [
      "[['This', 'is', 'the', 'best', '#nlp', 'exercise', 'ive', 'found', 'online', '!', '#python'], ['#NLP', 'is', 'super', 'fun', '!', '<3', '#learning'], ['Thanks', '@datacamp', ':)', '#nlp', '#python']]\n"
     ]
    }
   ],
   "source": [
    "tknzr = TweetTokenizer()\n",
    "all_tokens = [tknzr.tokenize(t) for t in text]\n",
    "print(all_tokens)"
   ]
  },
  {
   "cell_type": "code",
   "execution_count": 17,
   "metadata": {},
   "outputs": [],
   "source": [
    "text = 'Wann gehen wir Pizza essen? 🍕 Und fährst du mit Über? 🚕'"
   ]
  },
  {
   "cell_type": "code",
   "execution_count": 24,
   "metadata": {},
   "outputs": [
    {
     "name": "stdout",
     "output_type": "stream",
     "text": [
      "['Wann', 'gehen', 'wir', 'Pizza', 'essen', '?', '🍕', 'Und', 'fährst', 'du', 'mit', 'Über', '?', '🚕']\n",
      "['Wann', 'Pizza', 'Und', 'Über']\n",
      "['🍕', '🚕']\n"
     ]
    }
   ],
   "source": [
    "# Tokenize and print all words in german_text\n",
    "all_words = word_tokenize(text)\n",
    "print(all_words)\n",
    "\n",
    "# Tokenize and print only capital words\n",
    "capital_words = r\"[A-ZÜ]\\w+\"\n",
    "print(regexp_tokenize(text, capital_words))\n",
    "\n",
    "# Tokenize and print only emoji\n",
    "emoji = \"['\\U0001F300-\\U0001F5FF'|'\\U0001F600-\\U0001F64F'|'\\U0001F680-\\U0001F6FF'|'\\u2600-\\u26FF\\u2700-\\u27BF']\"\n",
    "print(regexp_tokenize(text, emoji))"
   ]
  },
  {
   "cell_type": "markdown",
   "metadata": {},
   "source": [
    "### Charting word length with NLTK"
   ]
  },
  {
   "cell_type": "markdown",
   "metadata": {},
   "source": [
    "**Getting started with matplotlib**\n",
    "- Charting library used by many open source Python projects\n",
    "- Straightforward functionality with lots of options\n",
    "    - Histograms\n",
    "    - Bar charts\n",
    "    - Line charts\n",
    "    - Scatter plots\n",
    "- advanced functionality like 3D graphs and animations"
   ]
  },
  {
   "cell_type": "code",
   "execution_count": 8,
   "metadata": {},
   "outputs": [
    {
     "data": {
      "image/png": "[encoded data removed]",
      "text/plain": [
       "<Figure size 432x288 with 1 Axes>"
      ]
     },
     "metadata": {
      "needs_background": "light"
     },
     "output_type": "display_data"
    }
   ],
   "source": [
    "from matplotlib import pyplot as plt\n",
    "\n",
    "plt.hist([1, 5, 5, 7, 7, 9])\n",
    "plt.show()"
   ]
  },
  {
   "cell_type": "markdown",
   "metadata": {},
   "source": [
    "#### Combining NLP data extraction with plotting"
   ]
  },
  {
   "cell_type": "code",
   "execution_count": 32,
   "metadata": {},
   "outputs": [
    {
     "data": {
      "text/plain": [
       "(array([1., 0., 1., 0., 0., 0., 3., 0., 0., 1.]),\n",
       " array([1. , 1.5, 2. , 2.5, 3. , 3.5, 4. , 4.5, 5. , 5.5, 6. ]),\n",
       " <BarContainer object of 10 artists>)"
      ]
     },
     "execution_count": 32,
     "metadata": {},
     "output_type": "execute_result"
    },
    {
     "data": {
      "image/png": "[encoded data removed]",
      "text/plain": [
       "<Figure size 432x288 with 1 Axes>"
      ]
     },
     "metadata": {
      "needs_background": "light"
     },
     "output_type": "display_data"
    }
   ],
   "source": [
    "from matplotlib import pyplot as plt\n",
    "from nltk.tokenize import word_tokenize\n",
    "\n",
    "words = word_tokenize(\"This is pretty cool tool!\")\n",
    "words_lengths = [len(w) for w in words]\n",
    "plt.hist(words_lengths)"
   ]
  },
  {
   "cell_type": "code",
   "execution_count": 33,
   "metadata": {},
   "outputs": [
    {
     "name": "stdout",
     "output_type": "stream",
     "text": [
      "SCENE 1: [wind] [clop clop clop] \n",
      "KING ARTHUR: Whoa there!  [clop clop clop] \n",
      "SOLDIER #1: Halt!  Who goes there?\n",
      "ARTHUR: It is I, Arthur, son of Uther Pendragon, from the castle of Camelot.  King of the Britons, defeator of the Saxons, sovereign of all England!\n",
      "SOLDIER #1: Pull the other one!\n",
      "ARTHUR: I am, ...  and this is my trusty servant Patsy.  We have ridden the length and breadth of the land in search of knights who will join me in my court at Camelot.  I must speak with your lord and master.\n",
      "SOLDIER #1: What?  Ridden on a horse?\n",
      "ARTHUR: Yes!\n",
      "SOLDIER #1: You're using coconuts!\n",
      "ARTHUR: What?\n",
      "SOLDIER #1: You've got two empty halves of coconut and you're bangin' 'em together.\n",
      "ARTHUR: So?  We have ridden since the snows of winter covered this land, through the kingdom of Mercea, through--\n",
      "SOLDIER #1: Where'd you get the coconuts?\n",
      "ARTHUR: We found them.\n",
      "SOLDIER #1: Found them?  In Mercea?  The coconut's tropical!\n",
      "ARTHUR: What do you mean?\n",
      "SOLDIER #1: Well, this is a temperate zone.\n",
      "ARTHUR: The swallow may fly south with the sun or the house martin or the plover may seek warmer climes in winter, yet these are not strangers to our land?\n",
      "SOLDIER #1: Are you suggesting coconuts migrate?\n",
      "ARTHUR: Not at all.  They could be carried.\n",
      "SOLDIER #1: What?  A swallow carrying a coconut?\n",
      "ARTHUR: It could grip it by the husk!\n",
      "SOLDIER #1: It's not a question of where he grips it!  It's a simple question of weight ratios!  A five ounce bird could not carry a one pound coconut.\n",
      "ARTHUR: Well, it doesn't matter.  Will you go and tell your master that Arthur from the Court of Camelot is here.\n",
      "SOLDIER #1: Listen.  In order to maintain air-speed velocity, a swallow needs to beat its wings forty-three times every second, right?\n",
      "ARTHUR: Please!\n",
      "SOLDIER #1: Am I right?\n",
      "ARTHUR: I'm not interested!\n",
      "SOLDIER #2: It could be carried by an African swallow!\n",
      "SOLDIER #1: Oh, yeah, an African swallow maybe, but not a European swallow.  That's my point.\n",
      "SOLDIER #2: Oh, yeah, I agree with that.\n",
      "ARTHUR: Will you ask your master if he wants to join my court at Camelot?!\n",
      "SOLDIER #1: But then of course a-- African swallows are non-migratory.\n",
      "SOLDIER #2: Oh, yeah...\n",
      "SOLDIER #1: So they couldn't bring a coconut back anyway...  [clop clop clop] \n",
      "SOLDIER #2: Wait a minute!  Supposing two swallows carried it together?\n",
      "SOLDIER #1: No, they'd have to have it on a line.\n",
      "SOLDIER #2: Well, simple!  They'd just use a strand of creeper!\n",
      "SOLDIER #1: What, held under the dorsal guiding feathers?\n",
      "SOLDIER #2: Well, why not?\n",
      "SCENE 2: [thud] [clang] \n",
      "CART-MASTER: Bring out your dead!  [clang] Bring out your dead!  [clang] Bring out your dead!  [clang] Bring out your dead!  [clang] Bring out your dead!  [cough cough...] [clang] [... cough cough] Bring out your dead!  [clang] Bring out your dead!  [clang] Bring out your dead!  Ninepence.  [clang] Bring out your dead!  [clang] Bring out your dead!  [clang] Bring out...  [rewr!] ... your dead!  [rewr!] [clang] Bring out your dead!\n",
      "CUSTOMER: Here's one.\n",
      "CART-MASTER: Ninepence.\n",
      "DEAD PERSON: I'm not dead!\n",
      "CART-MASTER: What?\n",
      "CUSTOMER: Nothing.  Here's your ninepence.\n",
      "DEAD PERSON: I'm not dead!\n",
      "CART-MASTER: 'Ere.  He says he's not dead!\n",
      "CUSTOMER: Yes he is.\n",
      "DEAD PERSON: I'm not!\n",
      "CART-MASTER: He isn't?\n",
      "CUSTOMER: Well, he will be soon.  He's very ill.\n",
      "DEAD PERSON: I'm getting better!  \n",
      "CUSTOMER: No you're not.  You'll be stone dead in a moment.\n",
      "CART-MASTER: Oh, I can't take him like that.  It's against regulations.\n",
      "DEAD PERSON: I don't want to go on the cart!\n",
      "CUSTOMER: Oh, don't be such a baby.\n",
      "CART-MASTER: I can't take him.\n",
      "DEAD PERSON: I feel fine!\n",
      "CUSTOMER: Well, do us a favor.\n",
      "CART-MASTER: I can't.\n",
      "CUSTOMER: Well, can you hang around a couple of minutes?  He won't be long.\n",
      "CART-MASTER: No, I've got to go to the Robinson's.  They've lost nine today.\n",
      "CUSTOMER: Well, when's your next round?\n",
      "CART-MASTER: Thursday.\n",
      "DEAD PERSON: I think I'll go for a walk.\n",
      "CUSTOMER: You're not fooling anyone you know.  Look, isn't there something you can do?\n",
      "DEAD PERSON: [singing] I feel happy...  I feel happy.  [whop] \n",
      "CUSTOMER: Ah, thanks very much.\n",
      "CART-MASTER: Not at all.  See you on Thursday.\n",
      "CUSTOMER: Right.  All right.  [howl] [clop clop clop] Who's that then?\n",
      "CART-MASTER: I dunno.  Must be a king.\n",
      "CUSTOMER: Why?\n",
      "CART-MASTER: He hasn't got shit all over him.\n",
      "SCENE 3: [thud] [King Arthur music] [thud thud thud] [King Arthur music stops] \n",
      "ARTHUR: Old woman!\n",
      "DENNIS: Man!\n",
      "ARTHUR: Man.  Sorry.  What knight live in that castle over there?\n",
      "DENNIS: I'm thirty-seven.\n",
      "ARTHUR: I-- what?\n",
      "DENNIS: I'm thirty-seven.  I'm not old.\n",
      "ARTHUR: Well, I can't just call you 'Man'.\n",
      "DENNIS: Well, you could say 'Dennis'.\n",
      "ARTHUR: Well, I didn't know you were called 'Dennis'.\n",
      "DENNIS: Well, you didn't bother to find out, did you?\n",
      "ARTHUR: I did say 'sorry' about the 'old woman', but from the behind you looked--\n",
      "DENNIS: What I object to is that you automatically treat me like an inferior!\n",
      "ARTHUR: Well, I am king!\n",
      "DENNIS: Oh king, eh, very nice.  And how d'you get that, eh?  By exploiting the workers!  By 'anging on to outdated imperialist dogma which perpetuates the economic and social differences in our society.  If there's ever going to be any progress with the--\n",
      "WOMAN: Dennis, there's some lovely filth down here.  Oh!  How d'you do?\n",
      "ARTHUR: How do you do, good lady.  I am Arthur, King of the Britons.  Who's castle is that?\n",
      "WOMAN: King of the who?\n",
      "ARTHUR: The Britons.\n",
      "WOMAN: Who are the Britons?\n",
      "ARTHUR: Well, we all are.  We are all Britons, and I am your king.\n",
      "WOMAN: I didn't know we had a king.  I thought we were an autonomous collective.\n",
      "DENNIS: You're fooling yourself.  We're living in a dictatorship.  A self-perpetuating autocracy in which the working classes--\n",
      "WOMAN: Oh, there you go, bringing class into it again.\n",
      "DENNIS: That's what it's all about.  If only people would hear of--\n",
      "ARTHUR: Please, please good people.  I am in haste.  Who lives in that castle?\n",
      "WOMAN: No one live there.\n",
      "ARTHUR: Then who is your lord?\n",
      "WOMAN: We don't have a lord.\n",
      "ARTHUR: What?\n",
      "DENNIS: I told you.  We're an anarcho-syndicalist commune.  We take it in turns to act as a sort of executive officer for the week.\n",
      "ARTHUR: Yes.\n",
      "DENNIS: But all the decision of that officer have to be ratified at a special bi-weekly meeting--\n",
      "ARTHUR: Yes, I see.\n",
      "DENNIS: By a simple majority in the case of purely internal affairs,--\n",
      "ARTHUR: Be quiet!\n",
      "DENNIS: But by a two-thirds majority in the case of more major--\n",
      "ARTHUR: Be quiet!  I order you to be quiet!\n",
      "WOMAN: Order, eh?  Who does he think he is?  Heh.\n",
      "ARTHUR: I am your king!\n",
      "WOMAN: Well, I didn't vote for you.\n",
      "ARTHUR: You don't vote for kings.\n",
      "WOMAN: Well, how did you become king then?\n",
      "ARTHUR: The Lady of the Lake, ... [angels sing] ... her arm clad in the purest shimmering samite, held aloft Excalibur from the bosom of the water signifying by Divine Providence that I, Arthur, was to carry Excalibur. [singing stops] That is why I am your king!\n",
      "DENNIS: Listen, strange women lying in ponds distributing swords is no basis for a system of government.  Supreme executive power derives from a mandate from the masses, not from some farcical aquatic ceremony.\n",
      "ARTHUR: Be quiet!\n",
      "DENNIS: Well, but you can't expect to wield supreme executive power just 'cause some watery tart threw a sword at you!\n",
      "ARTHUR: Shut up!\n",
      "DENNIS: I mean, if I went 'round saying I was an emperor just because some moistened bint had lobbed a scimitar at me, they'd put me away!\n",
      "ARTHUR: Shut up, will you.  Shut up!\n",
      "DENNIS: Ah, now we see the violence inherent in the system.\n",
      "ARTHUR: Shut up!\n",
      "DENNIS: Oh!  Come and see the violence inherent in the system!  Help, help!  I'm being repressed!\n",
      "ARTHUR: Bloody peasant!\n",
      "DENNIS: Oh, what a give-away.  Did you hear that?  Did you hear that, eh?  That's what I'm on about.  Did you see him repressing me?  You saw it, didn't you\n",
      "SCENE 4: [King Arthur music] [music stops] \n",
      "BLACK KNIGHT: Aaagh!  [King Arthur music] [music stops] \n",
      "BLACK KNIGHT: Aaagh!\n",
      "GREEN KNIGHT: Ooh! [King Arthur music] [music stops] [stab] \n",
      "BLACK KNIGHT: Aagh!\n",
      "GREEN KNIGHT: Oh! [King Arthur music] Ooh! [music stops] \n",
      "BLACK KNIGHT: Aaagh! [clang] \n",
      "BLACK KNIGHT and GREEN KNIGHT: Agh!, oh!, etc.\n",
      "GREEN KNIGHT: Aaaaaah!  Aaaaaaaaah! [woosh] [BLACK KNIGHT kills GREEN KNIGHT] [thud] [scrape] \n",
      "BLACK KNIGHT: Umm! [clop clop clop] \n",
      "ARTHUR: You fight with the strength of many men, Sir Knight. [pause] I am Arthur, King of the Britons. [pause] I seek the finest and the bravest knights in the land to join me in my court at Camelot. [pause] You have proved yourself worthy.  Will you join me? [pause] You make me sad.  So be it.  Come, Patsy.\n",
      "BLACK KNIGHT: None shall pass.\n",
      "ARTHUR: What?\n",
      "BLACK KNIGHT: None shall pass.\n",
      "ARTHUR: I have no quarrel with you, good Sir Knight, but I must cross this bridge.\n",
      "BLACK KNIGHT: Then you shall die.\n",
      "ARTHUR: I command you, as King of the Britons, to stand aside!\n",
      "BLACK KNIGHT: I move for no man.\n",
      "ARTHUR: So be it!\n",
      "ARTHUR and BLACK KNIGHT: Aaah!, hiyaah!, etc. [ARTHUR chops the BLACK KNIGHT's left arm off] \n",
      "ARTHUR: Now stand aside, worthy adversary.\n",
      "BLACK KNIGHT: 'Tis but a scratch.\n",
      "ARTHUR: A scratch?  Your arm's off!\n",
      "BLACK KNIGHT: No, it isn't.\n",
      "ARTHUR: Well, what's that then?\n",
      "BLACK KNIGHT: I've had worse.\n",
      "ARTHUR: You liar!\n",
      "BLACK KNIGHT: Come on, you pansy! [clang] Huyah! [clang] Hiyaah! [clang] Aaaaaaaah! [ARTHUR chops the BLACK KNIGHT's right arm off] \n",
      "ARTHUR: Victory is mine! [kneeling] We thank Thee Lord, that in Thy mer--\n",
      "BLACK KNIGHT: Hah! [clunk] Come on then.\n",
      "ARTHUR: What?\n",
      "BLACK KNIGHT: Have at you! [kick] \n",
      "ARTHUR: Eh.  You are indeed brave, Sir Knight, but the fight is mine.\n",
      "BLACK KNIGHT: Oh, had enough, eh?\n",
      "ARTHUR: Look, you stupid bastard.  You've got no arms left.\n",
      "BLACK KNIGHT: Yes I have.\n",
      "ARTHUR: Look!\n",
      "BLACK KNIGHT: Just a flesh wound. [kick] \n",
      "ARTHUR: Look, stop that.\n",
      "BLACK KNIGHT: Chicken! [kick] Chickennn!\n",
      "ARTHUR: Look, I'll have your leg. [kick] Right! [whop] [ARTHUR chops the BLACK KNIGHT's right leg off] \n",
      "BLACK KNIGHT: Right.  I'll do you for that!\n",
      "ARTHUR: You'll what?\n",
      "BLACK KNIGHT: Come here!\n",
      "ARTHUR: What are you going to do, bleed on me?\n",
      "BLACK KNIGHT: I'm invincible!\n",
      "ARTHUR: You're a looney.\n",
      "BLACK KNIGHT: The Black Knight always triumphs!  Have at you!  Come on then. [whop] [ARTHUR chops the BLACK KNIGHT's last leg off] \n",
      "BLACK KNIGHT: Ooh.  All right, we'll call it a draw.\n",
      "ARTHUR: Come, Patsy.\n",
      "BLACK KNIGHT: Oh.  Oh, I see.  Running away, eh?  You yellow bastards!  Come back here and take what's coming to you.  I'll bite your legs off\n",
      "SCENE 5:\n",
      "MONKS: [chanting] Pie Iesu domine, dona eis requiem. [bonk] Pie Iesu domine, ... [bonk] ... dona eis requiem. [bonk] Pie Iesu domine, ... [bonk] ... dona eis requiem.\n",
      "CROWD: A witch!  A witch! [bonk] A witch!  A witch!\n",
      "MONKS: [chanting] Pie Iesu domine...\n",
      "CROWD: A witch!  A witch!  A witch!  A witch!  We've found a witch!  A witch!  A witch!  A witch!  A witch!  We've got a witch!  A witch!  A witch!  Burn her!  Burn her!  Burn her!  We've found a witch!  We've found a witch!  A witch!  A witch!  A witch!\n",
      "VILLAGER #1: We have found a witch.  May we burn her?\n",
      "CROWD: Burn her!  Burn!  Burn her!  Burn her!\n",
      "BEDEVERE: How do you know she is a witch?\n",
      "VILLAGER #2: She looks like one.\n",
      "CROWD: Right!  Yeah!  Yeah!\n",
      "BEDEVERE: Bring her forward.\n",
      "WITCH: I'm not a witch.  I'm not a witch.\n",
      "BEDEVERE: Uh, but you are dressed as one.\n",
      "WITCH: They dressed me up like this.\n",
      "CROWD: Augh, we didn't!  We didn't...\n",
      "WITCH: And this isn't my nose.  It's a false one.\n",
      "BEDEVERE: Well?\n",
      "VILLAGER #1: Well, we did do the nose.\n",
      "BEDEVERE: The nose?\n",
      "VILLAGER #1: And the hat, but she is a witch!\n",
      "VILLAGER #2: Yeah!\n",
      "CROWD: We burn her!  Right!  Yeaaah!  Yeaah!\n",
      "BEDEVERE: Did you dress her up like this?\n",
      "VILLAGER #1: No!\n",
      "VILLAGER #2 and 3: No.  No.\n",
      "VILLAGER #2: No.\n",
      "VILLAGER #1: No.\n",
      "VILLAGERS #2 and #3: No.\n",
      "VILLAGER #1: Yes.\n",
      "VILLAGER #2: Yes.\n",
      "VILLAGER #1: Yes.  Yeah, a bit.\n",
      "VILLAGER #3: A bit.\n",
      "VILLAGERS #1 and #2: A bit.\n",
      "VILLAGER #3: A bit.\n",
      "VILLAGER #1: She has got a wart.\n",
      "RANDOM: [cough] \n",
      "BEDEVERE: What makes you think she is a witch?\n",
      "VILLAGER #3: Well, she turned me into a newt.\n",
      "BEDEVERE: A newt?\n",
      "VILLAGER #3: I got better.\n",
      "VILLAGER #2: Burn her anyway!\n",
      "VILLAGER #1: Burn!\n",
      "CROWD: Burn her!  Burn!  Burn her! ...\n",
      "BEDEVERE: Quiet!  Quiet!  Quiet!  Quiet!  There are ways of telling whether she is a witch.\n",
      "VILLAGER #1: Are there?\n",
      "VILLAGER #2: Ah?\n",
      "VILLAGER #1: What are they?\n",
      "CROWD: Tell us!  Tell us! ...\n",
      "BEDEVERE: Tell me, what do you do with witches?\n",
      "VILLAGER #2: Burn!\n",
      "VILLAGER #1: Burn!\n",
      "CROWD: Burn!  Burn them up!  Burn! ...\n",
      "BEDEVERE: And what do you burn apart from witches?\n",
      "VILLAGER #1: More witches!\n",
      "VILLAGER #3: Shh!\n",
      "VILLAGER #2: Wood!\n",
      "BEDEVERE: So, why do witches burn? [pause] \n",
      "VILLAGER #3: B--...  'cause they're made of...  wood?\n",
      "BEDEVERE: Good!  Heh heh.\n",
      "CROWD: Oh yeah.  Oh.\n",
      "BEDEVERE: So, how do we tell whether she is made of wood?\n",
      "VILLAGER #1: Build a bridge out of her.\n",
      "BEDEVERE: Ah, but can you not also make bridges out of stone?\n",
      "VILLAGER #1: Oh, yeah.\n",
      "RANDOM: Oh, yeah.  True.  Uhh...\n",
      "BEDEVERE: Does wood sink in water?\n",
      "VILLAGER #1: No.  No.\n",
      "VILLAGER #2: No, it floats!  It floats!\n",
      "VILLAGER #1: Throw her into the pond!\n",
      "CROWD: The pond!  Throw her into the pond!\n",
      "BEDEVERE: What also floats in water?\n",
      "VILLAGER #1: Bread!\n",
      "VILLAGER #2: Apples!\n",
      "VILLAGER #3: Uh, very small rocks!\n",
      "VILLAGER #1: Cider!\n",
      "VILLAGER #2: Uh, gra-- gravy!\n",
      "VILLAGER #1: Cherries!\n",
      "VILLAGER #2: Mud!\n",
      "VILLAGER #3: Churches!  Churches!\n",
      "VILLAGER #2: Lead!  Lead!\n",
      "ARTHUR: A duck!\n",
      "CROWD: Oooh.\n",
      "BEDEVERE: Exactly.  So, logically...\n",
      "VILLAGER #1: If...  she...  weighs...  the same as a duck, ...  she's made of wood.\n",
      "BEDEVERE: And therefore?\n",
      "VILLAGER #2: A witch!\n",
      "VILLAGER #1: A witch!\n",
      "CROWD: A witch!  A witch! ...\n",
      "VILLAGER #4: Here is a duck.  Use this duck. [quack quack quack] \n",
      "BEDEVERE: We shall use my largest scales.\n",
      "CROWD: Ohh!  Ohh!  Burn the witch!  Burn the witch!  Burn her!  Burn her!  Burn her!  Burn her!  Burn her!  Burn her!  Burn her!  Ahh!  Ahh...\n",
      "BEDEVERE: Right.  Remove the supports! [whop] [clunk] [creak] \n",
      "CROWD: A witch!  A witch!  A witch!\n",
      "WITCH: It's a fair cop.\n",
      "VILLAGER #3: Burn her!\n",
      "CROWD: Burn her!  Burn her!  Burn her!  Burn!  Burn! ...\n",
      "BEDEVERE: Who are you who are so wise in the ways of science?\n",
      "ARTHUR: I am Arthur, King of the Britons.\n",
      "BEDEVERE: My liege!\n",
      "ARTHUR: Good Sir Knight, will you come with me to Camelot, and join us at the Round Table?\n",
      "BEDEVERE: My liege!  I would be honored.\n",
      "ARTHUR: What is your name?\n",
      "BEDEVERE: Bedevere, my liege.\n",
      "ARTHUR: Then I dub you Sir Bedevere, Knight of the Round Table\n",
      "NARRATOR: The wise Sir Bedevere was the first to join King Arthur's knights, but other illustrious names were soon to follow: Sir Lancelot the Brave; Sir Gallahad the Pure; and Sir Robin the-not-quite-so-brave-as-Sir-Lancelot, who had nearly fought the Dragon of Angnor, who had nearly stood up to the vicious Chicken of Bristol, and who had personally wet himself at the Battle of Badon Hill; and the aptly named Sir Not-appearing-in-this-film.  Together they formed a band whose names and deeds were to be retold throughout the centuries: the Knights of the Round Table\n",
      "SCENE 6: [clop clop clop] \n",
      "SIR BEDEVERE: And that, my liege, is how we know the earth to be banana-shaped.\n",
      "ARTHUR: This new learning amazes me, Sir Bedevere.  Explain again how sheep's bladders may be employed to prevent earthquakes.\n",
      "BEDEVERE: Oh, certainly, sir.\n",
      "SIR LAUNCELOT: Look, my liege! [trumpets] \n",
      "ARTHUR: Camelot!\n",
      "SIR GALAHAD: Camelot!\n",
      "LAUNCELOT: Camelot!\n",
      "PATSY: It's only a model.\n",
      "ARTHUR: Shh!  Knights, I bid you welcome to your new home.  Let us ride... to...  Camelot! [in medieval hall] \n",
      "KNIGHTS: [singing] We're knights of the round table.  We dance when e'er we're able.  We do routines and chorus scenes With footwork impeccable.  We dine well here in Camelot.  We eat ham and jam and spam a lot [dancing] We're knights of the Round Table. Our shows are formidable, But many times we're given rhymes That are quite unsingable. We're opera mad in Camelot. We sing from the diaphragm a lot [in dungeon] \n",
      "PRISONER: [clap clap clap clap] [in medieval hall] \n",
      "KNIGHTS: [tap-dancing] In war we're tough and able, Quite indefatigable.  Between our quests we sequin vests and impersonate Clark Gable.  It's a busy life in Camelot.\n",
      "MAN: I have to push the pram a lot [outdoors] \n",
      "ARTHUR: Well, on second thought, let's not go to Camelot.  It is a silly place.\n",
      "KNIGHTS: Right.  Right\n",
      "SCENE 7: [clop clop clop] [boom boom] [angels sing] \n",
      "GOD: Arthur!  Arthur, King of the Britons!  Oh, don't grovel! [singing stops] One thing I can't stand, it's people groveling.\n",
      "ARTHUR: Sorry. [boom] \n",
      "GOD: And don't apologise.  Every time I try to talk to someone it's 'sorry this' and 'forgive me that' and 'I'm not worthy'. [boom] What are you doing now?!\n",
      "ARTHUR: I'm averting my eyes, O Lord.\n",
      "GOD: Well, don't.  It's like those miserable Psalms-- they're so depressing. Now knock it off!\n",
      "ARTHUR: Yes, Lord.\n",
      "GOD: Right!  Arthur, King of the Britons, your Knights of the Round Table shall have a task to make them an example in these dark times.\n",
      "ARTHUR: Good idea, O Lord!\n",
      "GOD: 'Course it's a good idea!  Behold! [angels sing] Arthur, this is the Holy Grail.  Look well, Arthur, for it is your sacred task to seek this grail.  That is your purpose, Arthur...  the quest for the Holy Grail. [boom] [singing stops] \n",
      "LAUNCELOT: A blessing!  A blessing from the Lord!\n",
      "GALAHAD: God be praised\n",
      "SCENE 8: [King Arthur music] [clop clop clop] \n",
      "ARTHUR: Halt! [horn] Hallo! [pause] Hallo!\n",
      "FRENCH GUARD: Allo!  Who is eet?\n",
      "ARTHUR: It is King Arthur, and these are my Knights of the Round Table.  Who's castle is this?\n",
      "FRENCH GUARD: This is the castle of my master Guy de Loimbard.\n",
      "ARTHUR: Go and tell your master that we have been charged by God with a sacred quest.  If he will give us food and shelter for the night he can join us in our quest for the Holy Grail.\n",
      "FRENCH GUARD: Well, I'll ask him, but I don't think he'll be very keen.  Uh, he's already got one, you see?\n",
      "ARTHUR: What?\n",
      "GALAHAD: He says they've already got one!\n",
      "ARTHUR: Are you sure he's got one?\n",
      "FRENCH GUARD: Oh, yes, it's very nice-a.  (I told him we already got one.)\n",
      "ARTHUR: Well, u-- um, can we come up and have a look?\n",
      "FRENCH GUARD: Of course not!  You are English types-a!\n",
      "ARTHUR: Well, what are you then?\n",
      "FRENCH GUARD: I'm French!  Why do think I have this outrageous accent, you silly king-a?!\n",
      "GALAHAD: What are you doing in England?\n",
      "FRENCH GUARD: Mind your own business!\n",
      "ARTHUR: If you will not show us the Grail, we shall take your castle by force!\n",
      "FRENCH GUARD: You don't frighten us, English pig-dogs!  Go and boil your bottom, sons of a silly person.  I blow my nose at you, so-called Arthur King, you and all your silly English k-nnnnniggets.  Thpppppt!  Thppt! Thppt!\n",
      "GALAHAD: What a strange person.\n",
      "ARTHUR: Now look here, my good man--\n",
      "FRENCH GUARD: I don't wanna talk to you no more, you empty headed animal food trough wiper!  I fart in your general direction!  You mother was a hamster and your father smelt of elderberries!\n",
      "GALAHAD: Is there someone else up there we could talk to?\n",
      "FRENCH GUARD: No, now go away or I shall taunt you a second time-a! [sniff] \n",
      "ARTHUR: Now, this is your last chance.  I've been more than reasonable.\n",
      "FRENCH GUARD: (Fetchez la vache.)\n",
      "OTHER FRENCH GUARD: Quoi?\n",
      "FRENCH GUARD: (Fetchez la vache!) [mooo] \n",
      "ARTHUR: If you do not agree to my commands, then I shall-- [twong] [mooooooo] Jesus Christ!\n",
      "KNIGHTS: Christ! [thud] Ah!  Ohh!\n",
      "ARTHUR: Right!  Charge!\n",
      "KNIGHTS: Charge! [mayhem] \n",
      "FRENCH GUARD: Hey, this one is for your mother!  There you go. [mayhem] \n",
      "FRENCH GUARD: And this one's for your dad!\n",
      "ARTHUR: Run away!\n",
      "KNIGHTS: Run away!\n",
      "FRENCH GUARD: Thppppt!\n",
      "FRENCH GUARDS: [taunting] \n",
      "LAUNCELOT: Fiends!  I'll tear them apart!\n",
      "ARTHUR: No, no.  No, no.\n",
      "BEDEVERE: Sir!  I have a plan, sir. [later] [wind] [saw saw saw saw saw saw saw saw saw saw saw saw saw saw saw saw] [clunk] [bang] [rewr!] [squeak squeak squeak squeak squeak squeak squeak squeak squeak squeak] [rrrr rrrr rrrr] [drilllll] [sawwwww] [clunk] [crash] [clang] [squeak squeak squeak squeak squeak...] [creak] \n",
      "FRENCH GUARDS: [whispering] C'est un lapin, lapin de bois.  Quoi?  Un cadeau.  What?  A present.  Oh, un cadeau.  Oui, oui.  Hurry.  What?  Let's go.  Oh. On y va.  Bon magne.  Over here... [squeak squeak squeak squeak squeak...] [clllank] \n",
      "ARTHUR: What happens now?\n",
      "BEDEVERE: Well, now, uh, Launcelot, Galahad, and I, uh, wait until nightfall, and then leap out of the rabbit, taking the French, uh, by surprise.  Not only by surprise, but totally unarmed!\n",
      "ARTHUR: Who leaps out?\n",
      "BEDEVERE: U-- u-- uh, Launcelot, Galahad, and I.  Uh, leap out of the rabbit, uh, and uh...\n",
      "ARTHUR: Ohh.\n",
      "BEDEVERE: Oh.  Um, l-- look, i-- i-- if we built this large wooden badger-- [clank] [twong] \n",
      "ARTHUR: Run away!\n",
      "KNIGHTS: Run away!  Run away!  Run away!  Run away!  Run away!  Run away!  Run away! [CRASH] \n",
      "FRENCH GUARDS: Oh, haw haw haw haw!  Haw!  Haw haw heh..\n",
      "SCENE 9: [clack] \n",
      "VOICE: Picture for Schools, take eight.\n",
      "DIRECTOR: Action!\n",
      "HISTORIAN: Defeat at the castle seems to have utterly disheartened King Arthur.  The ferocity of the French taunting took him completely by surprise, and Arthur became convinced that a new strategy was required if the quest for the Holy Grail were to be brought to a successful conclusion.  Arthur, having consulted his closest knights, decided that they should separate, and search for the Grail individually. [clop clop clop] Now, this is what they did: Launcelot--\n",
      "KNIGHT: Aaaah! [slash] [KNIGHT kills HISTORIAN] \n",
      "HISTORIAN'S WIFE: Frank\n",
      "SCENE 10: [trumpets] \n",
      "NARRATOR: The Tale of Sir Robin.  So each of the knights went their separate ways.  Sir Robin rode north, through the dark forest of Ewing, accompanied by his favorite minstrels.\n",
      "MINSTREL: [singing] Bravely bold Sir Robin, rode forth from Camelot.  He was not afraid to die, O brave Sir Robin.  He was not at all afraid to be killed in nasty ways.  Brave, brave, brave, brave Sir Robin!  He was not in the least bit scared to be mashed into a pulp, Or to have his eyes gouged out, and his elbows broken.  To have his kneecaps split, and his body burned away, And his limbs all hacked and mangled, brave Sir Robin!\n",
      "His head smashed in and his heart cut out, And his liver removed and his bowels unplugged, And his nostrils raped and his bottom burned off, And his pen--\n",
      "SIR ROBIN: That's-- that's, uh-- that's enough music for now, lads.  Heh.  Looks like there's dirty work afoot.\n",
      "DENNIS: Anarcho-syndicalism is a way of preserving freedom.\n",
      "WOMAN: Oh, Dennis, forget about freedom.  We haven't got enough mud.\n",
      "ALL HEADS: Halt!  Who art thou?\n",
      "MINSTREL: [singing] He is brave Sir Robin, brave Sir Robin, who--\n",
      "ROBIN: Shut up!  Um, n-- n-- n-- nobody really, I'm j-- j-- j-- ju-- just um, just passing through.\n",
      "ALL HEADS: What do you want?\n",
      "MINSTREL: [singing] To fight and--\n",
      "ROBIN: Shut up!  Um, oo, a-- nothing, nothing really.  I, uh, j-- j-- just--just to um, just to p-- pass through, good Sir Knight.\n",
      "ALL HEADS: I'm afraid not!\n",
      "ROBIN: Ah.  W-- well, actually I-- I am a Knight of the Round Table.\n",
      "ALL HEADS: You're a Knight of the Round Table?\n",
      "ROBIN: I am.\n",
      "LEFT HEAD: In that case I shall have to kill you.\n",
      "MIDDLE HEAD: Shall I?\n",
      "RIGHT HEAD: Oh, I don't think so.\n",
      "MIDDLE HEAD: Well, what do I think?\n",
      "LEFT HEAD: I think kill him.\n",
      "RIGHT HEAD: Oh, let's be nice to him.\n",
      "LEFT HEAD: Oh shut up.\n",
      "ROBIN: Perhaps I could--\n",
      "LEFT HEAD: And you.  Oh, quick!  Get the sword out.  I want to cut his headoff!\n",
      "RIGHT HEAD: Oh, cut your own head off!\n",
      "MIDDLE HEAD: Yes, do us all a favor!\n",
      "LEFT HEAD: What?\n",
      "RIGHT HEAD: Yapping on all the time.\n",
      "MIDDLE HEAD: You're lucky.  You're not next to him.\n",
      "LEFT HEAD: What do you mean?\n",
      "MIDDLE HEAD: You snore!\n",
      "LEFT HEAD: Oh, I don't.  Anyway, you've got bad breath.\n",
      "MIDDLE HEAD: Well it's only because you don't brush my teeth.\n",
      "RIGHT HEAD: Oh stop bitching and let's go have tea.\n",
      "LEFT HEAD: Oh, all right.  All right.  All right.  We'll kill him first and then have tea and biscuits.\n",
      "MIDDLE HEAD: Yes.\n",
      "RIGHT HEAD: Oh, not biscuits.\n",
      "LEFT HEAD: All right.  All right, not biscuits, but let's kill him anyway.\n",
      "ALL HEADS: Right!\n",
      "MIDDLE HEAD: He buggered off.\n",
      "RIGHT HEAD: So he has.  He's scarper\n",
      "MINSTREL: [singing] Brave Sir Robin ran away.\n",
      "ROBIN: No!\n",
      "MINSTREL: [singing] Bravely ran away away.\n",
      "ROBIN: I didn't!\n",
      "MINSTREL: [singing] When danger reared its ugly head, he bravely turned his tail and fled.\n",
      "ROBIN: No!\n",
      "MINSTREL: [singing] Yes, brave Sir Robin turned about\n",
      "ROBIN: I didn't!\n",
      "MINSTREL: [singing] And gallantly he chickened out, bravely taking to his feet.\n",
      "ROBIN: I never did!\n",
      "MINSTREL: [singing] He beat a very brave retreat.\n",
      "ROBIN: All lies!\n",
      "MINSTREL: [singing] Bravest of the brave, Sir Robin.\n",
      "ROBIN: I never\n",
      "CARTOON MONKS: [chanting] Pie Iesu domine, dona eis requiem.\n",
      "CARTOON CHARACTER: Heh heh heeh ooh... [twang] \n",
      "CARTOON MONKS: [chanting] Pie Iesu domine, ...\n",
      "CARTOON CHARACTERS: Wayy! [splash] Ho ho.  Woa, wayy! [twang] [splash] Heh heh heh heh ho!  Heh heh heh!\n",
      "CARTOON MONKS: [chanting] ... dona eis requiem.\n",
      "CARTOON CHARACTER: Wayy! [twang] Wayy! [twang] \n",
      "VOICE: [whispering] Forgive me for asking.\n",
      "CARTOON CHARACTER: Oh!  Oooo\n",
      "SCENE 11: [trumpets] \n",
      "NARRATOR: The Tale of Sir Galahad. [boom] [wind] [howl] [howl] [boom] [angels singing] [howl] [boom] [howl] [boom] [pound pound pound] \n",
      "GALAHAD: Open the door!  Open the door! [pound pound pound] In the name of King Arthur, open the door! [squeak] [thump] [squeak] [boom] \n",
      "GIRLS: Hello!\n",
      "ZOOT: Welcome gentle Sir Knight.  Welcome to the Castle Anthrax.\n",
      "GALAHAD: The Castle Anthrax?\n",
      "ZOOT: Yes.  Oh, it's not a very good name is it?  Oh, but we are nice and we will attend to your every, every need!\n",
      "GALAHAD: You are the keepers of the Holy Grail?\n",
      "ZOOT: The what?\n",
      "GALAHAD: The Grail.  It is here.\n",
      "ZOOT: Oh, but you are tired, and you must rest awhile.  Midget!  Crapper!\n",
      "MIDGET and CRAPPER: Yes, O Zoot?\n",
      "ZOOT: Prepare a bed for our guest.\n",
      "MIDGET and CRAPPER: Oh thank you!  Thank you!  Thank you!  Thank you!  Thank you!  Thank you! ...\n",
      "ZOOT: Away, away varletesses.  The beds here are warm and soft, and very, very big.\n",
      "GALAHAD: Well, look, I-- I-- uh--\n",
      "ZOOT: What is your name, handsome knight?\n",
      "GALAHAD: Sir Galahad...  the Chaste.\n",
      "ZOOT: Mine is Zoot.  Just Zoot.  Oh, but come.\n",
      "GALAHAD: Look, please!  In God's name, show me the Grail!\n",
      "ZOOT: Oh, you have suffered much.  You are delirious.\n",
      "GALAHAD: No, look.  I have seen it!  It is here, in this--\n",
      "ZOOT: Sir Galahad!  You would not be so ungallant as to refuse our hospitality.\n",
      "GALAHAD: Well, I-- I-- uh--\n",
      "ZOOT: Oh, I am afraid our life must seem very dull and quiet compared to yours.  We are but eight score young blondes and brunettes, all between sixteen and nineteen-and-a-half, cut off in this castle with no one to protect us.  Oooh.  It is a lonely life: bathing, dressing, undressing, making exciting underwear.  We are just not used to handsome knights.  Nay.  Nay.  Come.  Come.  You may lie here.  Oh, but you are wounded!\n",
      "GALAHAD: No, no-- it's-- it's nothing.\n",
      "ZOOT: Oh, you must see the doctors immediately!  No, no, please!  Lie down. [clap clap] \n",
      "PIGLET: Well, what seems to be the trouble?\n",
      "GALAHAD: They're doctors?!\n",
      "ZOOT: Uh, they have a basic medical training, yes.\n",
      "GALAHAD: B-- but--\n",
      "ZOOT: Oh, come, come.  You must try to rest.  Doctor Piglet!  Doctor Winston!  Practice your art.\n",
      "WINSTON: Try to relax.\n",
      "GALAHAD: Are you sure that's absolutely necessary?\n",
      "PIGLET: We must examine you.\n",
      "GALAHAD: There's nothing wrong with that!\n",
      "PIGLET: Please.  We are doctors.\n",
      "GALAHAD: Look!  This cannot be.  I am sworn to chastity.\n",
      "PIGLET: Back to your bed!  At once!\n",
      "GALAHAD: Torment me no longer.  I have seen the Grail!\n",
      "PIGLET: There's no grail here.\n",
      "GALAHAD: I have seen it!  I have seen it! [clank] I have seen--\n",
      "GIRLS: Hello.\n",
      "GALAHAD: Oh.\n",
      "GIRLS: Hello.  Hello.  Hello.  Hello.  Hello.  Hello.  Hello.  Hello.  Hello.  Hello.  Hello.  Hello.  Hello.  Hello.  Hello.  Hello.  Hello.  Hello.  Hello.  Hello.  Hello.  Hello.  Hello.\n",
      "GALAHAD: Zoot!\n",
      "DINGO: No, I am Zoot's identical twin sister, Dingo.\n",
      "GALAHAD: Oh, well, excuse me, I--\n",
      "DINGO: Where are you going?\n",
      "GALAHAD: I seek the Grail!  I have seen it, here in this castle!\n",
      "DINGO: Oh no.  Oh, no!  Bad, bad Zoot!\n",
      "GALAHAD: Well, what is it?\n",
      "DINGO: Oh, wicked, bad, naughty Zoot!  She has been setting alight to our beacon, which, I have just remembered, is grail-shaped.  It's not the first time we've had this problem.\n",
      "GALAHAD: It's not the real Grail?\n",
      "DINGO: Oh, wicked, bad, naughty, evil Zoot!  She is a bad person and must pay the penalty.  Do you think this scene should have been cut?  We were so worried when the boys were writing it, but now, we're glad.  It's better than some of the previous scenes, I think.\n",
      "LEFT HEAD: At least ours was better visually.\n",
      "DENNIS: Well, at least ours was committed.  It wasn't just a string of pussy jokes.\n",
      "OLD MAN: Get on with it.\n",
      "TIM THE ENCHANTER: Yes, get on with it!\n",
      "ARMY OF KNIGHTS: Yes, get on with it!\n",
      "DINGO: Oh, I am enjoying this scene.\n",
      "GOD: Get on with it!\n",
      "DINGO: [sigh] Oh, wicked, wicked Zoot.  Oh, she is a naughty person, and she must pay the penalty.  And here in Castle Anthrax, we have but one punishment for setting alight the grail-shaped beacon.  You must tie her down on a bed and spank her.\n",
      "GIRLS: A spanking!  A spanking!\n",
      "DINGO: You must spank her well.  And after you have spanked her, you may deal with her as you like.  And then, spank me.\n",
      "AMAZING: And spank me.\n",
      "STUNNER: And me.\n",
      "LOVELY: And me.\n",
      "DINGO: Yes, yes, you must give us all a good spanking!\n",
      "GIRLS: A spanking!  A spanking!  There is going to be a spanking tonight!\n",
      "DINGO: And after the spanking, the oral sex.\n",
      "GIRLS: The oral sex!  The oral sex!\n",
      "GALAHAD: Well, I could stay a bit longer.\n",
      "LAUNCELOT: Sir Galahad!\n",
      "GALAHAD: Oh, hello.\n",
      "LAUNCELOT: Quick!\n",
      "GALAHAD: What?\n",
      "LAUNCELOT: Quick!\n",
      "GALAHAD: Why?\n",
      "LAUNCELOT: You are in great peril!\n",
      "DINGO: No he isn't.\n",
      "LAUNCELOT: Silence, foul temptress!\n",
      "GALAHAD: You know, she's got a point.\n",
      "LAUNCELOT: Come on!  We will cover your escape!\n",
      "GALAHAD: Look, I'm fine!\n",
      "LAUNCELOT: Come on!\n",
      "GIRLS: Sir Galahad!\n",
      "GALAHAD: No.  Look, I can tackle this lot single-handed!\n",
      "DINGO: Yes!  Let him tackle us single-handed!\n",
      "GIRLS: Yes!  Let him tackle us single-handed!\n",
      "LAUNCELOT: No, Sir Galahad.  Come on!\n",
      "GALAHAD: No!  Really!  Honestly, I can cope.  I can handle this lot easily.\n",
      "DINGO: Oh, yes.  Let him handle us easily.\n",
      "GIRLS: Yes.  Let him handle us easily.\n",
      "LAUNCELOT: No.  Quick!  Quick!\n",
      "GALAHAD: Please!  I can defeat them!  There's only a hundred-and-fifty of them!\n",
      "DINGO: Yes, yes!  He will beat us easily!  We haven't a chance.\n",
      "GIRLS: We haven't a chance.  He will beat us easily... [boom] \n",
      "DINGO: Oh, shit.\n",
      "LAUNCELOT: We were in the nick of time.  You were in great peril.\n",
      "GALAHAD: I don't think I was.\n",
      "LAUNCELOT: Yes you were.  You were in terrible peril.\n",
      "GALAHAD: Look, let me go back in there and face the peril.\n",
      "LAUNCELOT: No, it's too perilous.\n",
      "GALAHAD: Look, it's my duty as a knight to sample as much peril as I can.\n",
      "LAUNCELOT: No, we've got to find the Holy Grail.  Come on!\n",
      "GALAHAD: Oh, let me have just a little bit of peril?\n",
      "LAUNCELOT: No.  It's unhealthy.\n",
      "GALAHAD: I bet you're gay.\n",
      "LAUNCELOT: No I'm not\n",
      "NARRATOR: Sir Launcelot had saved Sir Galahad from almost certain temptation, but they were still no nearer the Grail.  Meanwhile, King Arthur and Sir Bedevere, not more than a swallow's flight away, had discovered something.  Oh, that's an unladen swallow's flight, obviously.  I mean, they were more than two laden swallows' flights away-- four, really, if they had a coconut on a line between them.  I mean, if the birds were walking and dragging--\n",
      "CROWD: Get on with it!\n",
      "NARRATOR: Oh, anyway.  On to scene twenty-four, which is a smashing scene with some lovely acting, in which Arthur discovers a vital clue, and in which there aren't any swallows, although I think you can hear a starling-- oooh\n",
      "SCENE 12:\n",
      "OLD MAN: Heh, hee ha ha hee hee!  Hee hee hee ha ha ha...\n",
      "ARTHUR: And this enchanter of whom you speak, he has seen the Grail?\n",
      "OLD MAN: ... Ha ha ha ha!  Heh, hee ha ha hee!  Ha hee ha!  Ha ha ha ha...\n",
      "ARTHUR: Where does he live?\n",
      "OLD MAN: ... Heh heh heh heh...\n",
      "ARTHUR: Old man, where does he live?\n",
      "OLD MAN: ... Hee ha ha ha.  He knows of a cave, a cave which no man has entered.\n",
      "ARTHUR: And the Grail.  The Grail is there?\n",
      "OLD MAN: There is much danger, for beyond the cave lies the Gorge of Eternal Peril, which no man has ever crossed.\n",
      "ARTHUR: But the Grail!  Where is the Grail?!\n",
      "OLD MAN: Seek you the Bridge of Death.\n",
      "ARTHUR: The Bridge of Death, which leads to the Grail?\n",
      "OLD MAN: Heh, hee hee hee hee!  Ha ha ha ha ha!  Hee ha ha..\n",
      "SCENE 13: [spooky music] [music stops] \n",
      "HEAD KNIGHT OF NI: Ni!\n",
      "KNIGHTS OF NI: Ni!  Ni!  Ni!  Ni!  Ni!\n",
      "ARTHUR: Who are you?\n",
      "HEAD KNIGHT: We are the Knights Who Say...  'Ni'!\n",
      "RANDOM: Ni!\n",
      "ARTHUR: No!  Not the Knights Who Say 'Ni'!\n",
      "HEAD KNIGHT: The same!\n",
      "BEDEVERE: Who are they?\n",
      "HEAD KNIGHT: We are the keepers of the sacred words: Ni, Peng, and Neee-wom!\n",
      "RANDOM: Neee-wom!\n",
      "ARTHUR: Those who hear them seldom live to tell the tale!\n",
      "HEAD KNIGHT: The Knights Who Say 'Ni' demand a sacrifice!\n",
      "ARTHUR: Knights of Ni, we are but simple travellers who seek the enchanter who lives beyond these woods.\n",
      "HEAD KNIGHT: Ni!\n",
      "KNIGHTS OF NI: Ni!  Ni!  Ni!  Ni!  Ni! ...\n",
      "ARTHUR: Ow!  Ow!  Ow!  Agh!\n",
      "HEAD KNIGHT: We shall say 'ni' again to you if you do not appease us.\n",
      "ARTHUR: Well, what is it you want?\n",
      "HEAD KNIGHT: We want...  a shrubbery! [dramatic chord] \n",
      "ARTHUR: A what?\n",
      "KNIGHTS OF NI: Ni!  Ni!  Ni!  Ni!\n",
      "ARTHUR and PARTY: Ow!  Oh!\n",
      "ARTHUR: Please, please!  No more!  We will find you a shrubbery.\n",
      "HEAD KNIGHT: You must return here with a shrubbery or else you will never pass through this wood alive!\n",
      "ARTHUR: O Knights of Ni, you are just and fair, and we will return with a shrubbery.\n",
      "HEAD KNIGHT: One that looks nice.\n",
      "ARTHUR: Of course.\n",
      "HEAD KNIGHT: And not too expensive.\n",
      "ARTHUR: Yes.\n",
      "HEAD KNIGHT: Now...  go [trumpets] \n",
      "CARTOON CHARACTER: Hmm hmm-- [boom] Oh!  Great scott!  Hm.  Hmm. [boom] Hm!  Hmm.  [mumble mumble mumble] [boom] [mumble mumble mumble] [boom] [mumble mumble mumble] [boom] [mumble mumble mumble] [boom] [mumble mumble mumble] [boom] [mumble mumble mumble] [boom] [mumble mumble mumble] [boom] [mumble mumble mumble] [boom] Ohh! [crash] [mumble mumble mumble] [boom] \n",
      "SUN: Ay, up!  Thsss. [boom] Ayy, up! [boom] Thsss. [boom] Ayy, up!\n",
      "CARTOON CHARACTER: Stop that!  Stop that! [boom] \n",
      "SUN: Ay, up!\n",
      "CARTOON CHARACTER: Stop that! [boom] Look on!  Clear off!  Go on!  Go away!  Go away!  Go away!  And you!  Clear off!  [sniff] \n",
      "SUN: [mumble mumble mumble] [bells] \n",
      "CARTOON CHARACTER: Hah.  Bloody weather\n",
      "SCENE 14:\n",
      "NARRATOR: The Tale of Sir Launcelot.\n",
      "FATHER: One day, lad, all this will be yours!\n",
      "PRINCE HERBERT: What, the curtains?\n",
      "FATHER: No.  Not the curtains, lad.  All that you can see, stretched out over the hills and valleys of this land!  This'll be your kingdom, lad.\n",
      "HERBERT: But Mother--\n",
      "FATHER: Father, lad.  Father.\n",
      "HERBERT: B-- b-- but Father, I don't want any of that.\n",
      "FATHER: Listen, lad.  I built this kingdom up from nothing.  When I started here, all there was was swamp.  Other kings said I was daft to build a castle on a swamp, but I built it all the same, just to show 'em.  It sank into the swamp.  So, I built a second one.  That sank into the swamp.  So I built a third one.  That burned down, fell over, then sank into the swamp.  But the fourth one...  stayed up!  And that's what you're gonna get, lad: the strongest castle in these islands.\n",
      "HERBERT: But I don't want any of that.  I'd rather--\n",
      "FATHER: Rather what?!\n",
      "HERBERT: I'd rather... [music] ... just...  sing!\n",
      "FATHER: Stop that!  Stop that!  You're not going into a song while I'm here.  Now listen, lad.  In twenty minutes you're getting married to a girl whose father owns the biggest tracts of open land in Britain.\n",
      "HERBERT: B-- but I don't want land.\n",
      "FATHER: Listen, Alice,--\n",
      "HERBERT: Herbert.\n",
      "FATHER: 'Erbert.  We live in a bloody swamp.  We need all the land we can get.\n",
      "HERBERT: But-- but I don't like her.\n",
      "FATHER: Don't like her?!  What's wrong with her?!  She's beautiful.  She's rich.  She's got huge...  tracts o' land.\n",
      "HERBERT: I know, but I want the-- the girl that I marry to have...  [music] ... a certain...  special...  something!\n",
      "FATHER: Cut that out!  Cut that out!  Look, you're marrying Princess Lucky, so you'd better get used to the idea! [smack] Guards!  Make sure the Prince doesn't leave this room until I come and get him.\n",
      "GUARD #1: Not to leave the room even if you come and get him.\n",
      "GUARD #2: Hic!\n",
      "FATHER: No, no.  Until I come and get him.\n",
      "GUARD #1: Until you come and get him, we're not to enter the room.\n",
      "FATHER: No, no.  No.  You stay in the room and make sure he doesn't leave.\n",
      "GUARD #1: And you'll come and get him.\n",
      "GUARD #2: Hic!\n",
      "FATHER: Right.\n",
      "GUARD #1: We don't need to do anything, apart from just stop him entering the room.\n",
      "FATHER: No, no.  Leaving the room.\n",
      "GUARD #1: Leaving the room.  Yes. [sniff] \n",
      "FATHER: All right?\n",
      "GUARD #1: Right.\n",
      "GUARD #2: Hic!\n",
      "FATHER: Right.\n",
      "GUARD #1: Oh, if-- if-- if-- uhh-- if-- if-- w-- ehh-- i-- if-- if we--\n",
      "FATHER: Yes?  What is it?\n",
      "GUARD #1: Oh, i-- if-- i-- oh--\n",
      "FATHER: Look, it's quite simple.\n",
      "GUARD #1: Uh...\n",
      "FATHER: You just stay here, and make sure 'e doesn't leave the room.  Alright?\n",
      "GUARD #2: Hic!\n",
      "FATHER: Right.\n",
      "GUARD #1: Oh, I remember.  Uhh, can he leave the room with us?\n",
      "FATHER: N-- no no.  No.  You just keep him in here, and make sure he--\n",
      "GUARD #1: Oh, yes.  We'll keep him in here, obviously.  But if he had to leave and we were with him--\n",
      "FATHER: No, no, no, no.  Just keep him in here--\n",
      "GUARD #1: Until you, or anyone else--\n",
      "FATHER: No, not anyone else.  Just me.\n",
      "GUARD #1: Just you.\n",
      "GUARD #2: Hic!\n",
      "FATHER: Get back.\n",
      "GUARD #1: Get back.\n",
      "FATHER: All right?\n",
      "GUARD #1: Right.  We'll stay here until you get back.\n",
      "GUARD #2: Hic!\n",
      "FATHER: And, uh, make sure he doesn't leave.\n",
      "GUARD #1: What?\n",
      "FATHER: Make sure 'e doesn't leave.\n",
      "GUARD #1: The Prince?\n",
      "FATHER: Yes.  Make sure 'e doesn't leave.\n",
      "GUARD #1: Oh, yes, of course.  \n",
      "GUARD #2: Hic!\n",
      "GUARD #1: Ah.  I thought you meant him.  You know, it seemed a bit daft me havin' to guard him when he's a guard.\n",
      "FATHER: Is that clear?\n",
      "GUARD #2: Hic!\n",
      "GUARD #1: Oh, quite clear.  No problems.\n",
      "FATHER: Right.  Where are you going?\n",
      "GUARD #1: We're coming with you.\n",
      "FATHER: No, no.  I want you to stay here and make sure 'e doesn't leave.\n",
      "GUARD #1: Oh, I see.  Right.\n",
      "HERBERT: But Father!\n",
      "FATHER: Shut your noise, you!  And get that suit on! [music] And no singing!\n",
      "GUARD #2: Hic!\n",
      "FATHER: Oh, go and get a glass of water. [clank] [scribble scribble scribble fold fold] [twong]\n",
      "SCENE 15:\n",
      "LAUNCELOT: Well taken, Concorde!\n",
      "CONCORDE: Thank you, sir!  Most kind.\n",
      "LAUNCELOT: And again!  Over we go!  Good.  Steady!  And now, the big one!  Uuh!  Come on, Concorde! [thwonk] \n",
      "CONCORDE: Message for you, sir. [fwump] \n",
      "LAUNCELOT: Concorde!  Concorde!  Speak to me!  'To whoever finds this note: I have been imprisoned by my father, who wishes me to marry against my will.  Please, please, please come and rescue me.  I am in the Tall Tower of Swamp Castle.' At last!  A call!  A cry of distress!  This could be the sign that leads us to the Holy Grail!  Brave, brave Concorde, you shall not have died in vain!\n",
      "CONCORDE: Uh, I'm-- I'm not quite dead, sir.\n",
      "LAUNCELOT: Well, you shall not have been mortally wounded in vain!\n",
      "CONCORDE: I-- I-- I think I c-- I could pull through, sir.\n",
      "LAUNCELOT: Oh, I see.\n",
      "CONCORDE: Actually, I think I'm all right to come with you, sir--\n",
      "LAUNCELOT: No, no, sweet Concorde!  Stay here!  I will send help as soon as I have accomplished a daring and heroic rescue in my own particular...  [sigh] \n",
      "CONCORDE: Idiom, sir?\n",
      "LAUNCELOT: Idiom!\n",
      "CONCORDE: No, I feel fine, actually, sir.\n",
      "LAUNCELOT: Farewell, sweet Concorde!\n",
      "CONCORDE: I'll, um, I'll just stay here then.  Shall I, sir?  Yeah\n",
      "SCENE 16: [inside castle] \n",
      "PRINCESS LUCKY and GIRLS: [giggle giggle giggle] [outside castle] \n",
      "GUEST: 'Morning!\n",
      "SENTRY #1: 'Morning.\n",
      "SENTRY #2: Oooh.\n",
      "SENTRY #1: [ptoo] \n",
      "LAUNCELOT: Ha ha!  Hiyya!\n",
      "SENTRY #2: Hey!\n",
      "LAUNCELOT: Hiyya!, Ha!, etc.\n",
      "PRINCESS LUCKY and GIRLS: [giggle giggle giggle] \n",
      "LAUNCELOT: Ha ha!  Huy!\n",
      "GUESTS: Uuh!  Aaah!\n",
      "LAUNCELOT: Ha ha!  And take this!  Aah!  Hiyah!  Aah!  Aaah!  Hyy!  Hya!  Hiyya!  Ha! ...\n",
      "GUARD #1: Now, you're not allowed to enter the room-- aaugh!\n",
      "LAUNCELOT: O fair one, behold your humble servant Sir Launcelot of Camelot.  I have come to take y-- Oh, I'm terribly sorry.\n",
      "HERBERT: You got my note!\n",
      "LAUNCELOT: Uh, well, I-- I got a-- a note.\n",
      "HERBERT: You've come to rescue me!\n",
      "LAUNCELOT: Uh, well, no.  You see, I hadn't--\n",
      "HERBERT: I knew someone would.  I knew that somewhere out there...  [music] \n",
      "LAUNCELOT: Well, I--\n",
      "HERBERT: ... there must be...  someone...\n",
      "FATHER: Stop that!  Stop that!  Stop it!  Stop it!  Who are you?\n",
      "HERBERT: I'm your son!\n",
      "FATHER: No, not you.\n",
      "LAUNCELOT: Uh, I am Sir Launcelot, sir.\n",
      "HERBERT: He's come to rescue me, Father.\n",
      "LAUNCELOT: Well, let's not jump to conclusions.\n",
      "FATHER: Did you kill all those guards?\n",
      "LAUNCELOT: Uh...  Oh, yes.  Sorry.\n",
      "FATHER: They cost fifty pounds each!\n",
      "LAUNCELOT: Well, I'm awfully sorry.  Um, I really can explain everything.\n",
      "HERBERT: Don't be afraid of him, Sir Launcelot.  I've got a rope all ready.\n",
      "FATHER: You killed eight wedding guests in all!\n",
      "LAUNCELOT: Well, uh, you see, the thing is, I thought your son was a lady.\n",
      "FATHER: I can understand that.\n",
      "HERBERT: Hurry, Sir Launcelot!  Hurry!\n",
      "FATHER: Shut up!  You only killed the bride's father, that's all!\n",
      "LAUNCELOT: Well, I really didn't mean to...\n",
      "FATHER: Didn't mean to?!  You put your sword right through his head!\n",
      "LAUNCELOT: Oh, dear.  Is he all right?\n",
      "FATHER: You even kicked the bride in the chest!  This is going to cost me a fortune!\n",
      "LAUNCELOT: Well, I can explain.  I was in the forest, um, riding north from Camelot, when I got this note, you see--\n",
      "FATHER: Camelot?  Are you from, uh, Camelot?\n",
      "HERBERT: Hurry, Sir Launcelot!\n",
      "LAUNCELOT: Uh, I am a Knight of King Arthur, sir.\n",
      "FATHER: Very nice castle, Camelot.  Uh, very good pig country...\n",
      "LAUNCELOT: Is it?\n",
      "HERBERT: Hurry!  I'm ready!\n",
      "FATHER: Would you, uh, like to come and have a drink?\n",
      "LAUNCELOT: Well, that-- that's, uh, awfully nice of you, ...\n",
      "HERBERT: I am ready!\n",
      "LAUNCELOT: ... um, I mean to be so understanding. [thonk] Um, ... [woosh] \n",
      "HERBERT: Oooh!\n",
      "LAUNCELOT: ... I'm afraid when I'm in this idiom, I sometimes get a bit, uh, sort of carried away.\n",
      "FATHER: Oh, don't worry about that.\n",
      "HERBERT: Oooh! [splat] \n",
      "SCENE 17:\n",
      "GUESTS: [crying] \n",
      "FATHER: Well, this is the main hall.  We're going to have all this knocked through, and made into one big, uh, living room.\n",
      "GUEST: There he is!\n",
      "FATHER: Oh, bloody hell.\n",
      "LAUNCELOT: Ha ha ha!  Hey!  Ha ha!\n",
      "FATHER: Hold it!  Stop it!  Hold it!  Hold it!  Hold it!  Hold it!  Hold it!  Please!\n",
      "LAUNCELOT: Sorry.  Sorry.  You see what I mean?  I just get carried away.  I'm really most awfully sorry.  Sorry!  Sorry, everyone.\n",
      "GUEST #1: He's killed the best man!\n",
      "GUESTS: [yelling] \n",
      "FATHER: Hold it!  Hold it!  Please!  Hold it!  This is Sir Launcelot from the Court of Camelot, a very brave and influential knight, and my special guest here today.\n",
      "LAUNCELOT: Hello.\n",
      "GUEST: He killed my auntie!\n",
      "GUESTS: [yelling] \n",
      "FATHER: Please!  Please!  This is supposed to be a happy occasion!  Let's not bicker and argue about who killed who.  We are here today to witness the union of two young people in the joyful bond of the holy wedlock.  Unfortunately, one of them, my son Herbert, has just fallen to his death.\n",
      "GUESTS: Oh!  Oh no!\n",
      "FATHER: But I don't want to think I've not lost a son, so much as...  gained a daughter! [clap clap clap] For, since the tragic death of her father--\n",
      "GUEST #2: He's not quite dead!\n",
      "FATHER: Since the near fatal wounding of her father--\n",
      "GUEST #2: He's getting better!\n",
      "FATHER: For, since her own father, who, when he seemed about to recover, suddenly felt the icy hand of death upon him.\n",
      "BRIDE'S FATHER: Uugh!\n",
      "GUEST #2: Oh, he's died!\n",
      "FATHER: And I want his only daughter to look upon me as her old dad, in a very real, and legally binding sense. [clap clap clap] And I feel sure that the merger-- er, the union between the Princess and the brave, but dangerous, Sir Launcelot of Camelot--\n",
      "LAUNCELOT: What?\n",
      "GUEST #2: Look!  The dead Prince!\n",
      "GUESTS: Oooh!  The dead Prince!\n",
      "CONCORDE: He's not quite dead.\n",
      "HERBERT: No, I feel much better.\n",
      "FATHER: You fell out of the Tall Tower, you creep!\n",
      "HERBERT: No, I was saved at the last minute.\n",
      "FATHER: How?!\n",
      "HERBERT: Well, I'll tell you. [music] \n",
      "FATHER: Not like that!  Not like that!  No!  Stop it!\n",
      "GUESTS: [singing] He's going to tell!  He's going to tell! ...\n",
      "FATHER: Shut uuup!\n",
      "GUESTS: [singing] He's going to tell! ...\n",
      "FATHER: Shut up!\n",
      "GUESTS: [singing] He's going to tell! ...\n",
      "FATHER: Shut up!\n",
      "GUESTS: [singing] He's going to tell! ...\n",
      "FATHER: Not like that!\n",
      "GUESTS: [singing] He's going to tell!  He's going to tell!  He's going to tell!  He's going to tell! ...\n",
      "CONCORDE: Quickly, sir!\n",
      "GUESTS: [singing] He's going to tell! ...\n",
      "CONCORDE: Come this way!\n",
      "GUESTS: [singing] He's going to tell!  He's going to tell! ...\n",
      "LAUNCELOT: No!  It's not right for my idiom!\n",
      "GUESTS: [singing] He's going to tell about his great escape...\n",
      "LAUNCELOT: I must escape more...  [sigh] \n",
      "GUESTS: [singing] Oh, he fell a long, long way...\n",
      "CONCORDE: Dramatically, sir?\n",
      "LAUNCELOT: Dramatically!\n",
      "GUESTS: [singing] But he's here with us today...\n",
      "LAUNCELOT: Heee!  Hoa! [crash] Hoo!\n",
      "GUESTS: [singing] What a wonderful escape!\n",
      "LAUNCELOT: Excuse me.  Could, uh-- could somebody give me a push, please\n",
      "SCENE 18: [King Arthur music] [clop clop clop] [rewr!  rewr!  rewr!  rewr!  rewr!  rewr!] \n",
      "ARTHUR: Old crone! [rewr!] [music stops] Is there anywhere in this town where we could buy a shrubbery? [dramatic chord] \n",
      "OLD CRONE: Who sent you?\n",
      "ARTHUR: The Knights Who Say 'Ni'.\n",
      "CRONE: Aggh!  No!  Never!  We have no shrubberies here.\n",
      "ARTHUR: If you do not tell us where we can buy a shrubbery, my friend and I will say...  we will say...  'ni'.\n",
      "CRONE: Agh!  Do your worst!\n",
      "ARTHUR: Very well!  If you will not assist us voluntarily, ...  ni!\n",
      "CRONE: No!  Never!  No shrubberies!\n",
      "ARTHUR: Ni!\n",
      "CRONE: [cough] \n",
      "BEDEVERE: Nu!\n",
      "ARTHUR: No, no, no, no...\n",
      "BEDEVERE: Nu!\n",
      "ARTHUR: No, it's not that, it's 'ni'.\n",
      "BEDEVERE: Nu!\n",
      "ARTHUR: No, no-- 'ni'.  You're not doing it properly.  No.\n",
      "BEDEVERE: Ni!\n",
      "ARTHUR and BEDEVERE: Ni!\n",
      "ARTHUR: That's it.  That's it.  You've got it.\n",
      "ARTHUR and BEDEVERE: Ni!\n",
      "CRONE: Ohh!\n",
      "BEDEVERE: Ni!\n",
      "ARTHUR: Ni!\n",
      "CRONE: Agh!\n",
      "BEDEVERE: Ni!\n",
      "ARTHUR: Ni!\n",
      "BEDEVERE: Ni!\n",
      "ARTHUR: Ni!\n",
      "BEDEVERE: Ni!\n",
      "ROGER THE SHRUBBER: Are you saying 'ni' to that old woman?\n",
      "ARTHUR: Erm, yes.\n",
      "ROGER: Oh, what sad times are these when passing ruffians can 'ni' at will to old ladies.  There is a pestilence upon this land.  Nothing is sacred. Even those who arrange and design shrubberies are under considerable economic stress at this period in history.\n",
      "ARTHUR: Did you say 'shrubberies'?\n",
      "ROGER: Yes.  Shrubberies are my trade.  I am a shrubber.  My name is Roger the Shrubber.  I arrange, design, and sell shrubberies.\n",
      "BEDEVERE: Ni!\n",
      "ARTHUR: No!  No, no, no!  No\n",
      "SCENE 19:\n",
      "ARTHUR: O Knights of Ni, we have brought you your shrubbery.  May we go now?\n",
      "HEAD KNIGHT: It is a good shrubbery.  I like the laurels particularly.  But there is one small problem.\n",
      "ARTHUR: What is that?\n",
      "HEAD KNIGHT: We are now...  no longer the Knights Who Say 'Ni'.\n",
      "KNIGHTS OF NI: Ni!  Shh!\n",
      "HEAD KNIGHT: Shh!  We are now the Knights Who Say 'Ecky-ecky-ecky-ecky-pikang-zoop-boing-goodem-zoo-owli-zhiv'.\n",
      "RANDOM: Ni!\n",
      "HEAD KNIGHT: Therefore, we must give you a test.\n",
      "ARTHUR: What is this test, O Knights of-- Knights Who 'Til Recently Said 'Ni'?\n",
      "HEAD KNIGHT: Firstly, you must find...  another shrubbery! [dramatic chord] \n",
      "ARTHUR: Not another shrubbery!\n",
      "RANDOM: Ni!\n",
      "HEAD KNIGHT: Then, when you have found the shrubbery, you must place it here beside this shrubbery, only slightly higher so you get the two-level effect with a little path running down the middle.\n",
      "KNIGHTS OF NI: A path!  A path!  A path!  Ni!  Shh!  Ni!  Ni!  Ni!  Shh!  Shh! ...\n",
      "HEAD KNIGHT: Then, when you have found the shrubbery, you must cut down the mightiest tree in the forest...  with...  a herring! [dramatic chord] \n",
      "ARTHUR: We shall do no such thing!\n",
      "HEAD KNIGHT: Oh, please!\n",
      "ARTHUR: Cut down a tree with a herring?  It can't be done.\n",
      "KNIGHTS OF NI: Aaaugh!  Aaaugh!\n",
      "HEAD KNIGHT: Augh!  Ohh!  Don't say that word.\n",
      "ARTHUR: What word?\n",
      "HEAD KNIGHT: I cannot tell, suffice to say is one of the words the Knights of Ni cannot hear.\n",
      "ARTHUR: How can we not say the word if you don't tell us what it is?\n",
      "KNIGHTS OF NI: Aaaaugh!\n",
      "HEAD KNIGHT: You said it again!\n",
      "ARTHUR: What, 'is'?\n",
      "KNIGHTS OF NI: Agh!  No, not 'is'.\n",
      "HEAD KNIGHT: No, not 'is'.  You wouldn't get vary far in life not saying 'is'.\n",
      "KNIGHTS OF NI: No, not 'is'.  Not 'is'.\n",
      "BEDEVERE: My liege, it's Sir Robin!\n",
      "MINSTREL: [singing] Packing it in and packing it up, And sneaking away and buggering up, And chickening out and pissing off home, Yes, bravely he is throwing in the sponge.\n",
      "ARTHUR: Sir Robin!\n",
      "ROBIN: My liege!  It's good to see you.\n",
      "HEAD KNIGHT: Now he's said the word!  \n",
      "ARTHUR: Surely you've not given up your quest for the Holy Grail?\n",
      "MINSTREL: [singing] He is sneaking away and buggering up--\n",
      "ROBIN: Shut up!  No, no.  No.  Far from it.\n",
      "HEAD KNIGHT: He said the word again!\n",
      "KNIGHTS OF NI: Aaaaugh!\n",
      "ROBIN: I was looking for it.\n",
      "KNIGHTS OF NI: Aaaaugh!\n",
      "ROBIN: Uh, here-- here in this forest.\n",
      "ARTHUR: No, it is far from this place.\n",
      "KNIGHTS OF NI: Aaaaugh!\n",
      "HEAD KNIGHT: Aaaaugh!  Stop saying the word!  The word...\n",
      "ARTHUR: Oh, stop it!\n",
      "KNIGHTS OF NI: ... we cannot hear!\n",
      "HEAD KNIGHT: Ow!  He said it again!\n",
      "ARTHUR: Patsy!\n",
      "HEAD KNIGHT: Wait!  I said it!  I said it! [clop clop clop] Ooh!  I said it again!  And there again!  That's three 'it's!  Ohh!\n",
      "KNIGHTS OF NI: Aaaaugh\n",
      "NARRATOR: And so, Arthur and Bedevere and Sir Robin set out on their search to find the enchanter of whom the old man had spoken in scene twenty-four.  Beyond the forest they met Launcelot and Galahad, and there was much rejoicing.\n",
      "KNIGHTS: Yay!  Yay! [woosh] \n",
      "NARRATOR: In the frozen land of Nador, they were forced to eat Robin's minstrels.\n",
      "MINSTREL: [high-pitched] Get back!  Eee!\n",
      "NARRATOR: And there was much rejoicing.\n",
      "KNIGHTS: Yay!\n",
      "NARRATOR: A year passed.\n",
      "CARTOON CHARACTER: [shivering] \n",
      "NARRATOR: Winter changed into Spring.\n",
      "CARTOON CHARACTER: Mmm, nice.\n",
      "NARRATOR: Spring changed into Summer.\n",
      "CARTOON CHARACTER: Oh.  Ahh.\n",
      "NARRATOR: Summer changed back into Winter.\n",
      "CARTOON CHARACTER: Oh?\n",
      "NARRATOR: And Winter gave Spring and Summer a miss and went straight on into Autumn.\n",
      "CARTOON CHARACTER: Aah. [snap] Oh!  Waa!\n",
      "NARRATOR: Until one day..\n",
      "SCENE 20: [King Arthur music] [clop clop clop] [music stops] [boom] \n",
      "KNIGHTS: Eh.  Oh.  See it?  Oh.  Oh.\n",
      "ARTHUR: Knights!  Forward! [boom boom boom boom boom] [squeak] [boom boom boom boom] What manner of man are you that can summon up fire without flint or tinder?\n",
      "TIM THE ENCHANTER: I...  am an enchanter.\n",
      "ARTHUR: By what name are you known?\n",
      "TIM: There are some who call me...  Tim?\n",
      "ARTHUR: Greetings, Tim the Enchanter.\n",
      "TIM: Greetings, King Arthur!\n",
      "ARTHUR: You know my name?\n",
      "TIM: I do. [zoosh] You seek the Holy Grail!\n",
      "ARTHUR: That is our quest.  You know much that is hidden, O Tim.\n",
      "TIM: Quite. [pweeng boom] [clap clap clap] \n",
      "ROBIN: Oh.\n",
      "ARTHUR: Yes, we're-- we're looking for the Holy Grail.  Our quest is to find the Holy Grail.\n",
      "KNIGHTS: Yeah.  Yes.  It is.  It is.  Yeah.  Yup.  Yup.  Hm.\n",
      "ARTHUR: And so we're-- we're-- we're-- we're looking for it.\n",
      "BEDEVERE: Yes, we are.\n",
      "GALAHAD: Yeah.  \n",
      "ROBIN: We are.  We are.\n",
      "BEDEVERE: We have been for some time.\n",
      "ROBIN: Ages.\n",
      "BEDEVERE: Umhm.\n",
      "ARTHUR: Uh-- uh, so, uh, anything that you could do to, uh-- to help, would be...  very...  helpful.\n",
      "GALAHAD: Look, can you tell us where-- [boom] \n",
      "ARTHUR: Fine.  Um, I don't want to waste any more of your time, but, uh, I don't suppose you could, uh, tell us where we might find a, um-- find a, uh-- a, um-- a, uh--\n",
      "TIM: A what...?\n",
      "ARTHUR: A g-- a-- a g-- a g-- a-- a g--\n",
      "TIM: A grail?!\n",
      "ARTHUR: Yes, I think so.\n",
      "ROBIN: Y-- y-- yes.\n",
      "ARTHUR: Yes.\n",
      "GALAHAD: Yup.\n",
      "KNIGHTS: That's it...\n",
      "TIM: Yes!\n",
      "ROBIN: Oh.\n",
      "ARTHUR: Oh.  Thank you.\n",
      "ROBIN: Ahh.\n",
      "GALAHAD: Oh.  Fine.\n",
      "ARTHUR: Thank you.\n",
      "ROBIN: Splendid.\n",
      "KNIGHTS: Aah... [boom pweeng boom boom] \n",
      "ARTHUR: Look, um, you're a busy man, uh--\n",
      "TIM: Yes, I can help you find the Holy Grail.\n",
      "KNIGHTS: Oh, thank you.  Oh...\n",
      "TIM: To the north there lies a cave-- the cave of Caerbannog-- wherein, carved in mystic runes upon the very living rock, the last words of Olfin Bedwere of Rheged... [boom] ... make plain the last resting place of the most Holy Grail.\n",
      "ARTHUR: Where could we find this cave, O Tim?\n",
      "TIM: Follow.  But!  Follow only if ye be men of valor, for the entrance to this cave is guarded by a creature so foul, so cruel that no man yet has fought with it and lived!  Bones of full fifty men lie strewn about its lair.  So, brave knights, if you do doubt your courage or your strength, come no further, for death awaits you all with nasty, big, pointy teeth.\n",
      "ARTHUR: What an eccentric performance\n",
      "SCENE 21: [clop clop clop] [whinny whinny] \n",
      "GALAHAD: They're nervous, sire.\n",
      "ARTHUR: Then we'd best leave them here and carry on on foot.  Dis-mount!\n",
      "TIM: Behold the cave of Caerbannog!\n",
      "ARTHUR: Right!  Keep me covered.\n",
      "GALAHAD: What with?\n",
      "ARTHUR: W-- just keep me covered.\n",
      "TIM: Too late! [dramatic chord] \n",
      "ARTHUR: What?\n",
      "TIM: There he is!\n",
      "ARTHUR: Where?\n",
      "TIM: There!\n",
      "ARTHUR: What, behind the rabbit?\n",
      "TIM: It is the rabbit!\n",
      "ARTHUR: You silly sod!\n",
      "TIM: What?\n",
      "ARTHUR: You got us all worked up!\n",
      "TIM: Well, that's no ordinary rabbit.\n",
      "ARTHUR: Ohh.\n",
      "TIM: That's the most foul, cruel, and bad-tempered rodent you ever set eyes on.\n",
      "ROBIN: You tit!  I soiled my armor I was so scared!\n",
      "TIM: Look, that rabbit's got a vicious streak a mile wide; it's a killer!\n",
      "GALAHAD: Get stuffed!\n",
      "TIM: He'll do you up a treat mate!\n",
      "GALAHAD: Oh, yeah?\n",
      "ROBIN: You mangy scots git!\n",
      "TIM: I'm warning you!\n",
      "ROBIN: What's he do, nibble your bum?\n",
      "TIM: He's got huge, sharp-- eh-- he can leap about-- look at the bones!\n",
      "ARTHUR: Go on, Bors.  Chop his head off!\n",
      "BORS: Right!  Silly little bleeder.  One rabbit stew comin' right up!\n",
      "TIM: Look! [squeak] \n",
      "BORS: Aaaugh! [dramatic chord] [clunk] \n",
      "ARTHUR: Jesus Christ!\n",
      "TIM: I warned you!\n",
      "ROBIN: I done it again!\n",
      "TIM: I warned you, but did you listen to me?  Oh, no, you knew it all, didn't you?  Oh, it's just a harmless little bunny, isn't it?  Well, it's always the same.  I always tell them--\n",
      "ARTHUR: Oh, shut up!\n",
      "TIM: Do they listen to me?\n",
      "ARTHUR: Right!\n",
      "TIM: Oh, no...\n",
      "KNIGHTS: Charge! [squeak squeak squeak] \n",
      "KNIGHTS: Aaaaugh!, Aaaugh!, etc.\n",
      "ARTHUR: Run away!  Run away!\n",
      "KNIGHTS: Run away!  Run away! ...\n",
      "TIM: Ha ha ha ha!  Ha haw haw!  Ha!  Ha ha!\n",
      "ARTHUR: Right.  How many did we lose?\n",
      "LAUNCELOT: Gawain.\n",
      "GALAHAD: Ector.\n",
      "ARTHUR: And Bors.  That's five.\n",
      "GALAHAD: Three, sir.\n",
      "ARTHUR: Three.  Three.  And we'd better not risk another frontal assault.  That rabbit's dynamite.\n",
      "ROBIN: Would it help to confuse it if we run away more?\n",
      "ARTHUR: Oh, shut up and go and change your armor.\n",
      "GALAHAD: Let us taunt it!  It may become so cross that it will make a mistake.\n",
      "ARTHUR: Like what?\n",
      "GALAHAD: Well...  ooh.\n",
      "LAUNCELOT: Have we got bows?\n",
      "ARTHUR: No.\n",
      "LAUNCELOT: We have the Holy Hand Grenade.\n",
      "ARTHUR: Yes, of course!  The Holy Hand Grenade of Antioch!  'Tis one of the sacred relics Brother Maynard carries with him!  Brother Maynard!  Bring up the Holy Hand Grenade!\n",
      "MONKS: [chanting] Pie Iesu domine, dona eis requiem.  Pie Iesu domine, donaeis requiem.  Pie Iesu domine, dona eis requiem.  Pie Iesu domine, dona eisrequiem.\n",
      "ARTHUR: How does it, um-- how does it work?\n",
      "LAUNCELOT: I know not, my liege.\n",
      "ARTHUR: Consult the Book of Armaments!\n",
      "BROTHER MAYNARD: Armaments, Chapter Two, verses Nine to Twenty-one.\n",
      "SECOND BROTHER: And Saint Attila raised the hand grenade up on high, saying,'O Lord, bless this thy hand grenade that with it thou mayest blow thine enemies to tiny bits, in thy mercy.' And the Lord did grin, and the people did feast upon the lambs and sloths and carp and anchovies and orangutans and breakfast cereals and fruit bats and large chu--\n",
      "MAYNARD: Skip a bit, Brother.\n",
      "SECOND BROTHER: And the Lord spake, saying, 'First shalt thou take out the Holy Pin.  Then, shalt thou count to three, no more, no less.  Three shalt be the number thou shalt count, and the number of the counting shall be three.  Four shalt thou not count, nor either count thou two, excepting that thou then proceed to three.  Five is right out.  Once the number three, being the third number, be reached, then lobbest thou thy Holy Hand Grenade of Antioch towards thy foe, who, being naughty in my sight, shall snuff it.'\n",
      "MAYNARD: Amen.\n",
      "KNIGHTS: Amen.\n",
      "ARTHUR: Right!  One...  two...  five!\n",
      "GALAHAD: Three, sir!\n",
      "ARTHUR: Three! [angels sing] [boom] \n",
      "SCENE 22:\n",
      "ARTHUR: There!  Look!\n",
      "LAUNCELOT: What does it say?\n",
      "GALAHAD: What language is that?\n",
      "ARTHUR: Brother Maynard!  You are a scholar.\n",
      "MAYNARD: It's Aramaic!\n",
      "GALAHAD: Of course!  Joseph of Arimathea!\n",
      "LAUNCELOT: 'Course!\n",
      "ARTHUR: What does it say?\n",
      "MAYNARD: It reads, 'Here may be found the last words of Joseph of Arimathea.  He who is valiant and pure of spirit may find the Holy Grail in the Castle of uuggggggh'.\n",
      "ARTHUR: What?\n",
      "MAYNARD: '...  the Castle of uuggggggh'.\n",
      "BEDEVERE: What is that?\n",
      "MAYNARD: He must have died while carving it.\n",
      "LAUNCELOT: Oh, come on!\n",
      "MAYNARD: Well, that's what it says.\n",
      "ARTHUR: Look, if he was dying, he wouldn't bother to carve 'aaggggh'.  He'd just say it!\n",
      "MAYNARD: Well, that's what's carved in the rock!\n",
      "GALAHAD: Perhaps he was dictating.\n",
      "ARTHUR: Oh, shut up.  Well, does it say anything else?\n",
      "MAYNARD: No.  Just, 'uuggggggh'.\n",
      "LAUNCELOT: Aauuggghhh.\n",
      "ARTHUR: Aaauggh.\n",
      "BEDEVERE: Do you suppose he meant the Camaaaaaargue?\n",
      "GALAHAD: Where's that?\n",
      "BEDEVERE: France, I think.\n",
      "LAUNCELOT: Isn't there a Saint Aauuuves in Cornwall?\n",
      "ARTHUR: No, that's Saint Ives.\n",
      "LAUNCELOT: Oh, yes.  Saint Iiiives.\n",
      "KNIGHTS: Iiiiives.\n",
      "BEDEVERE: Oooohoohohooo!\n",
      "LAUNCELOT: No, no.  'Aauuuuugh', at the back of the throat.  Aauuugh.\n",
      "BEDEVERE: N-- no.  No, no, no, no.  'Oooooooh', in surprise and alarm.\n",
      "LAUNCELOT: Oh, you mean sort of a 'aaaah'!\n",
      "BEDEVERE: Yes, but I-- aaaaaah!\n",
      "ARTHUR: Oooh!\n",
      "GALAHAD: My God! [dramatic chord] [roar] \n",
      "MAYNARD: It's the legendary Black Beast of Aaauugh! [Black Beast of Aaauugh eats BROTHER MAYNARD] \n",
      "BEDEVERE: That's it!  That's it!\n",
      "ARTHUR: Run away!\n",
      "KNIGHTS: Run away! [roar] Run away!  Run awaaay!  Run awaaaaay! [roar] Keep running! [boom] [roar] Shh!  Shh!  Shh!  Shh!  Shh!  Shh!  Shh!  Shh! ...\n",
      "BEDEVERE: We've lost him. [roar] \n",
      "KNIGHTS: Aagh!\n",
      "NARRATOR: As the horrendous Black Beast lunged forward, escape for Arthur and his knights seemed hopeless, when suddenly, the animator suffered a fatal heart attack.\n",
      "ANIMATOR: Ulk! [thump] \n",
      "NARRATOR: The cartoon peril was no more.  The quest for Holy Grail could continue.\n",
      "SCENE 23: [gurgle] \n",
      "GALAHAD: There it is!\n",
      "ARTHUR: The Bridge of Death!\n",
      "ROBIN: Oh, great.\n",
      "ARTHUR: Look!  There's the old man from scene twenty-four!\n",
      "BEDEVERE: What is he doing here?\n",
      "ARTHUR: He is the keeper of the Bridge of Death.  He asks each traveller five questions--\n",
      "GALAHAD: Three questions.\n",
      "ARTHUR: Three questions.  He who answers the five questions--\n",
      "GALAHAD: Three questions.\n",
      "ARTHUR: Three questions may cross in safety.\n",
      "ROBIN: What if you get a question wrong?\n",
      "ARTHUR: Then you are cast into the Gorge of Eternal Peril.\n",
      "ROBIN: Oh, I won't go.\n",
      "GALAHAD: Who's going to answer the questions?\n",
      "ARTHUR: Sir Robin!\n",
      "ROBIN: Yes?\n",
      "ARTHUR: Brave Sir Robin, you go.\n",
      "ROBIN: Hey!  I've got a great idea.  Why doesn't Launcelot go?\n",
      "LAUNCELOT: Yes.  Let me go, my liege.  I will take him single-handed.  I shall make a feint to the north-east that s--\n",
      "ARTHUR: No, no.  No.  Hang on!  Hang on!  Hang on!  Just answer the five questions--\n",
      "GALAHAD: Three questions.\n",
      "ARTHUR: Three questions as best you can.  And we shall watch...  and pray.\n",
      "LAUNCELOT: I understand, my liege.\n",
      "ARTHUR: Good luck, brave Sir Launcelot.  God be with you.\n",
      "BRIDGEKEEPER: Stop!  Who would cross the Bridge of Death must answer me these questions three, ere the other side he see.\n",
      "LAUNCELOT: Ask me the questions, bridgekeeper.  I am not afraid.\n",
      "BRIDGEKEEPER: What is your name?\n",
      "LAUNCELOT: My name is Sir Launcelot of Camelot.\n",
      "BRIDGEKEEPER: What is your quest?\n",
      "LAUNCELOT: To seek the Holy Grail.\n",
      "BRIDGEKEEPER: What is your favorite color?\n",
      "LAUNCELOT: Blue.\n",
      "BRIDGEKEEPER: Right.  Off you go.\n",
      "LAUNCELOT: Oh, thank you.  Thank you very much.\n",
      "ROBIN: That's easy!\n",
      "BRIDGEKEEPER: Stop!  Who approacheth the Bridge of Death must answer me these questions three, ere the other side he see.\n",
      "ROBIN: Ask me the questions, bridgekeeper.  I'm not afraid.\n",
      "BRIDGEKEEPER: What is your name?\n",
      "ROBIN: Sir Robin of Camelot.\n",
      "BRIDGEKEEPER: What is your quest?\n",
      "ROBIN: To seek the Holy Grail.\n",
      "BRIDGEKEEPER: What is the capital of Assyria?\n",
      "ROBIN: I don't know that!  Auuuuuuuugh!\n",
      "BRIDGEKEEPER: Stop!  What is your name?\n",
      "GALAHAD: Sir Galahad of Camelot.\n",
      "BRIDGEKEEPER: What is your quest?\n",
      "GALAHAD: I seek the Grail.\n",
      "BRIDGEKEEPER: What is your favorite color?\n",
      "GALAHAD: Blue.  No yel-- auuuuuuuugh!\n",
      "BRIDGEKEEPER: Hee hee heh.  Stop!  What is your name?\n",
      "ARTHUR: It is Arthur, King of the Britons.\n",
      "BRIDGEKEEPER: What is your quest?\n",
      "ARTHUR: To seek the Holy Grail.\n",
      "BRIDGEKEEPER: What is the air-speed velocity of an unladen swallow?\n",
      "ARTHUR: What do you mean?  An African or European swallow?\n",
      "BRIDGEKEEPER: Huh?  I-- I don't know that!  Auuuuuuuugh!\n",
      "BEDEVERE: How do know so much about swallows?\n",
      "ARTHUR: Well, you have to know these things when you're a king, you know. [suspenseful music] [music suddenly stops] [intermission] [suspenseful music resumes]\n",
      "SCENE 24:\n",
      "ARTHUR: Launcelot!  Launcelot!  Launcelot!\n",
      "BEDEVERE: Launcelot!  Launcelot!\n",
      "ARTHUR: Launcelot! [police radio] Launcelot!\n",
      "BEDEVERE: Launcelot!  Launcelot! [angels sing] [singing stops] [ethereal music] \n",
      "ARTHUR: The Castle Aaagh.  Our quest is at an end!  God be praised!  Almighty God, we thank Thee that Thou hast vouchsafed to us the most holy-- [twong] [baaaa] Jesus Christ! [thud] \n",
      "FRENCH GUARD: Allo, dappy English k-niggets and Monsieur Arthur King, who has the brain of a duck, you know.  So, we French fellows outwit you a second time!\n",
      "ARTHUR: How dare you profane this place with your presence!  I command you, in the name of the Knights of Camelot, to open the doors of this sacred castle, to which God Himself has guided us!\n",
      "FRENCH GUARD: How you English say, 'I one more time, mac, unclog my nose in your direction', sons of a window-dresser!  So, you think you could out-clever us French folk with your silly knees-bent running about advancing behaviour?!  I wave my private parts at your aunties, you cheesy lot of second hand electric donkey-bottom biters.\n",
      "ARTHUR: In the name of the Lord, we demand entrance to this sacred castle!\n",
      "FRENCH GUARD: No chance, English bed-wetting types.  I burst my pimples at you and call your door-opening request a silly thing, you tiny-brained wipers of other people's bottoms!\n",
      "ARTHUR: If you do not open this door, we shall take this castle by force! [splat] In the name of God and the glory of our-- [splat] \n",
      "FRENCH GUARDS: [laughing] \n",
      "ARTHUR: Agh.  Right!  That settles it!\n",
      "FRENCH GUARD: Yes, depart a lot at this time, and cut the approaching any more or we fire arrows at the tops of your heads and make castanets out of your testicles already!  Ha ha haaa ha!\n",
      "ARTHUR: Walk away.  Just ignore them.\n",
      "FRENCH GUARD: And now, remain gone, illegitimate-faced bugger-folk!  And, if you think you got a nasty taunting this time, you ain't heard nothing yet, dappy English k-nnniggets!  Thpppt!\n",
      "FRENCH GUARDS: [taunting] \n",
      "ARTHUR: We shall attack at once!\n",
      "BEDEVERE: Yes, my liege!\n",
      "ARTHUR: Stand by for attack! [exciting music] [music stops] [silence] French persons!\n",
      "FRENCH GUARDS: [taunting] ... Dappy! ...\n",
      "ARTHUR: Today the blood of many a valiant knight shall be avenged.  In the name of God, ...\n",
      "FRENCH GUARDS: Hoo hoo!  Ohh, ha ha ha ha ha! ...\n",
      "ARTHUR: ... we shall not stop our fight 'til each one of you lies dead, and the Holy Grail returns to those whom God has chosen!\n",
      "FRENCH GUARDS: ... Ha ha ha! ...\n",
      "ARTHUR: Charge!\n",
      "ARMY OF KNIGHTS: Hooray! [police siren] \n",
      "HISTORIAN'S WIFE: Yes.  They're the ones.  I'm sure.\n",
      "INSPECTOR: Come on.  Anybody armed must go too.\n",
      "OFFICER #1: All right.  Come on.  Back.\n",
      "HISTORIAN'S WIFE: Get that one.\n",
      "OFFICER #1: Back.  Right away.  Just...  pull it off.  Come on.  Come along.\n",
      "INSPECTOR: Put this man in the van.\n",
      "OFFICER #1: Clear off.  Come on.\n",
      "BEDEVERE: With whom?\n",
      "INSPECTOR: Which one?\n",
      "OFFICER #1: Oh-- this one.\n",
      "INSPECTOR: Come on.  Put him in the van.\n",
      "OFFICER #2: Get a blanket.\n",
      "OFFICER #1: We have no hospital.\n",
      "RANDOM: Ahh. [squeak] \n",
      "RANDOM: Ooh.\n",
      "OFFICER #1: Come on.  Back.  Riiight back.  Come on!\n",
      "OFFICER #2: Run along!  Run along!\n",
      "OFFICER #1: Pull that off.  My, that's an offensive weapon, that is.\n",
      "OFFICER #2: Come on.  Back with 'em.  Back.  Right.  Come along.\n",
      "INSPECTOR: Everything? [squeak] \n",
      "OFFICER #1: All right, sonny.  That's enough.  Just pack that in. [crash] \n",
      "CAMERAMAN: Christ!\n",
      "\n"
     ]
    }
   ],
   "source": [
    "file = r\"D:\\Pemrograman\\Data-Science\\Datacamp\\Code\\Natural Language Processing in Python\\Introduction to NLP in Python\\grail.txt\"\n",
    "with open(file, 'r') as f:\n",
    "    text = f.read()\n",
    "    print(text)"
   ]
  },
  {
   "cell_type": "code",
   "execution_count": 43,
   "metadata": {},
   "outputs": [
    {
     "data": {
      "image/png": "[encoded data removed]",
      "text/plain": [
       "<Figure size 432x288 with 1 Axes>"
      ]
     },
     "metadata": {
      "needs_background": "light"
     },
     "output_type": "display_data"
    }
   ],
   "source": [
    "import re\n",
    "\n",
    "# Split the script into lines: lines\n",
    "lines = text.split('\\n')\n",
    "\n",
    "# Replace all script lines for speaker\n",
    "pattern = \"[A-Z]{2,}(\\s)?(#\\d)?(A-Z]{2,})?:\"\n",
    "lines = [re.sub(pattern, '', l) for l in lines]\n",
    "\n",
    "# Tokenize each line: tokenized_lines\n",
    "tokenized_lines = [regexp_tokenize(s, \"\\w+\") for s in lines]\n",
    "\n",
    "# Make a frequency list of lengths: line_num_words\n",
    "line_num_words = [len(t_line) for t_line in tokenized_lines]\n",
    "\n",
    "# Plot a histogram of the line lengths\n",
    "plt.hist(line_num_words)\n",
    "\n",
    "# Show the plot\n",
    "plt.show()"
   ]
  },
  {
   "cell_type": "markdown",
   "metadata": {},
   "source": [
    "## 2. Simple topic identification"
   ]
  },
  {
   "cell_type": "markdown",
   "metadata": {},
   "source": [
    "### Word counts with bag-of-words"
   ]
  },
  {
   "cell_type": "markdown",
   "metadata": {},
   "source": [
    "**Bag of words**\n",
    "- Basics method for finding topics in a text\n",
    "- Need to first create tokens using tokenization\n",
    "- .. count up all the tokens\n",
    "- The more frequent a word, the more important it might be\n",
    "- Can be a great way to determine the significant words in a text\n",
    "\n",
    "**Bad-of-words example**\n",
    "- Text : \"The cat is in the bos. The cat likes the box. The box is over the cat.\"\n",
    "- Bag of words (strip punct):\n",
    "    - \"The\": 3, \"box\":3\n",
    "    - \"cat\":3, \"the\":3\n",
    "    - \"is\":2\n",
    "    - \"in\":1, \"likes\":1, \"over\":1"
   ]
  },
  {
   "cell_type": "code",
   "execution_count": 9,
   "metadata": {},
   "outputs": [
    {
     "data": {
      "text/plain": [
       "Counter({'The': 2, 'cat': 2, 'is': 1, 'in': 1, 'the': 1, 'box': 2, '.': 2})"
      ]
     },
     "execution_count": 9,
     "metadata": {},
     "output_type": "execute_result"
    }
   ],
   "source": [
    "from nltk.tokenize import word_tokenize\n",
    "from collections import Counter\n",
    "\n",
    "Counter(word_tokenize(\"The cat is in the box. The cat box.\"))"
   ]
  },
  {
   "cell_type": "code",
   "execution_count": null,
   "metadata": {},
   "outputs": [],
   "source": [
    "counter.most_common(2)"
   ]
  },
  {
   "cell_type": "code",
   "execution_count": 23,
   "metadata": {},
   "outputs": [
    {
     "data": {
      "text/plain": [
       "[('the', 274),\n",
       " (',', 269),\n",
       " ('.', 189),\n",
       " ('to', 131),\n",
       " ('of', 119),\n",
       " ('a', 100),\n",
       " ('in', 99),\n",
       " ('and', 80),\n",
       " ('that', 67),\n",
       " ('’', 54)]"
      ]
     },
     "execution_count": 23,
     "metadata": {},
     "output_type": "execute_result"
    }
   ],
   "source": [
    "from collections import Counter\n",
    "\n",
    "file = r'News articles\\articles.txt'\n",
    "with open(file, 'r', encoding=\"utf-8\") as f:\n",
    "    text = f.read()\n",
    "    # print(text)\n",
    "\n",
    "tokens = word_tokenize(text)\n",
    "lower_tokens = [t.lower() for t in tokens]\n",
    "bow_simple = Counter(lower_tokens)\n",
    "bow_simple.most_common(10)"
   ]
  },
  {
   "cell_type": "markdown",
   "metadata": {},
   "source": [
    "### Simple text preprocessing"
   ]
  },
  {
   "cell_type": "markdown",
   "metadata": {},
   "source": [
    "**Why preprocess?**\n",
    "- Helps make for better input data\n",
    "    - When performing ml for other statistical methods\n",
    "- Examples: \n",
    "    - Tokenization to create a bag of words\n",
    "    - Lowercasing words\n",
    "- Lemmatization/stemming\n",
    "    - Shorten words to their root stems\n",
    "- Removing stopwords, punctuation, or unwanted tokens\n",
    "- Good to experiment with different approaches\n",
    "\n",
    "**Preprocessing example**\n",
    "- Imput text: Cats, dogs, and birds are common pets. So are fish.\n",
    "- Output tokens: cat, dog, bird, common, pet, fish"
   ]
  },
  {
   "cell_type": "code",
   "execution_count": 31,
   "metadata": {},
   "outputs": [
    {
     "data": {
      "text/plain": [
       "[('cat', 3), ('box', 3)]"
      ]
     },
     "execution_count": 31,
     "metadata": {},
     "output_type": "execute_result"
    }
   ],
   "source": [
    "from nltk.corpus import stopwords\n",
    "text = \"\"\"The cat is in the box. The cat likes the box. \n",
    "The box is over the cat.\"\"\"\n",
    "\n",
    "tokens = [w for w in word_tokenize(text.lower()) if w.isalpha()]\n",
    "no_stops = [t for t in tokens if t not in stopwords.words('english')]\n",
    "no_stops\n",
    "Counter(no_stops).most_common(2)"
   ]
  },
  {
   "cell_type": "code",
   "execution_count": 51,
   "metadata": {},
   "outputs": [
    {
     "name": "stderr",
     "output_type": "stream",
     "text": [
      "[nltk_data] Downloading package omw-1.4 to\n",
      "[nltk_data]     C:\\Users\\Windows10\\AppData\\Roaming\\nltk_data...\n"
     ]
    },
    {
     "data": {
      "text/plain": [
       "True"
      ]
     },
     "execution_count": 51,
     "metadata": {},
     "output_type": "execute_result"
    }
   ],
   "source": [
    "import nltk\n",
    "nltk.download('omw-1.4')"
   ]
  },
  {
   "cell_type": "code",
   "execution_count": 86,
   "metadata": {},
   "outputs": [
    {
     "name": "stdout",
     "output_type": "stream",
     "text": [
      "[('said', 29), ('robot', 28), ('population', 22), ('news', 19), ('human', 16), ('growth', 16), ('fake', 15), ('country', 14), ('united', 14), ('machine', 13)]\n"
     ]
    }
   ],
   "source": [
    "from nltk.stem import WordNetLemmatizer\n",
    "from collections import Counter\n",
    "\n",
    "file = r'News articles\\articles.txt'\n",
    "with open(file, 'r', encoding=\"utf-8\") as f:\n",
    "    text = f.read()\n",
    "    # print(text)\n",
    "\n",
    "tokens = word_tokenize(text)\n",
    "lower_tokens = [t.lower() for t in tokens]\n",
    "alpha_only = [t for t in lower_tokens if t.isalpha()]\n",
    "\n",
    "no_stops = [t for t in alpha_only if t not in stopwords.words('english')]\n",
    "wordnet_lemmatizer = WordNetLemmatizer()\n",
    "lemmatized = [wordnet_lemmatizer.lemmatize(t) for t in no_stops]\n",
    "bow = Counter(lemmatized)\n",
    "print(bow.most_common(10))"
   ]
  },
  {
   "cell_type": "markdown",
   "metadata": {},
   "source": [
    "### Introduction to gensim"
   ]
  },
  {
   "cell_type": "markdown",
   "metadata": {},
   "source": [
    "**What is gensim?**\n",
    "- Popular open -source NLP library\n",
    "- Uses top academic models to perform complex tasks\n",
    "    - Building document or word vectors\n",
    "    - Performing topic identification and document comparison\n",
    "- A word embedding or vector is trained from a larger corpus and is a multi-dimensional representation of a word or document\n",
    "- LDA (latent dirichlet allocation) is a statistical model we can apply to text using Gensim for topic analysis and modelling\n",
    "- Gensim allows you to buils corpora and dictionaries using simple classes and functions\n",
    "- Gensim models can be easily saved, updated, and reused\n",
    "- Our dictionary can also be updated"
   ]
  },
  {
   "cell_type": "code",
   "execution_count": 88,
   "metadata": {},
   "outputs": [],
   "source": [
    "from gensim.corpora.dictionary import Dictionary\n",
    "from nltk.tokenize import word_tokenize\n",
    "\n",
    "my_documents = ['The movie was about a spaceship and aliends.',\n",
    "                'I really liked the movie!',\n",
    "                'Awesome action scenes, but boring characters.',\n",
    "                'The movie was awful! I hate alien films',\n",
    "                'Space is cool! I liked the movie.',\n",
    "                'More space films, please!']"
   ]
  },
  {
   "cell_type": "code",
   "execution_count": 91,
   "metadata": {},
   "outputs": [
    {
     "data": {
      "text/plain": [
       "[[(0, 1), (1, 1), (2, 1), (3, 1), (4, 1), (5, 1), (6, 1), (7, 1), (8, 1)],\n",
       " [(5, 1), (7, 1), (9, 1), (10, 1), (11, 1), (12, 1)],\n",
       " [(0, 1), (13, 1), (14, 1), (15, 1), (16, 1), (17, 1), (18, 1), (19, 1)],\n",
       " [(5, 1), (7, 1), (8, 1), (9, 1), (10, 1), (20, 1), (21, 1), (22, 1), (23, 1)],\n",
       " [(0, 1), (5, 1), (7, 1), (9, 1), (10, 1), (11, 1), (24, 1), (25, 1), (26, 1)],\n",
       " [(9, 1), (13, 1), (22, 1), (26, 1), (27, 1), (28, 1)]]"
      ]
     },
     "execution_count": 91,
     "metadata": {},
     "output_type": "execute_result"
    }
   ],
   "source": [
    "tokenized_docs = [word_tokenize(doc.lower()) for doc in my_documents]\n",
    "dictionary = Dictionary(tokenized_docs)\n",
    "dictionary.token2id\n",
    "corpus = [dictionary.doc2bow(doc) for doc in tokenized_docs]\n",
    "corpus "
   ]
  },
  {
   "cell_type": "code",
   "execution_count": null,
   "metadata": {},
   "outputs": [],
   "source": [
    "from gensim.corpora.dictionary import Dictionary\n",
    "\n",
    "file = r'Wikipedia articles/wiki_text_computer.txt'\n",
    "with open(file, 'r', encoding=\"utf-8\") as f:\n",
    "    text = f.read()\n",
    "    # print(text)\n",
    "\n",
    "tokens = word_tokenize(text.lower())\n",
    "no_stops = [t for t in tokens if t not in stopwords.words('english')]\n",
    "no_punch = [t for t in no_stops if t.isalpha()]\n",
    "\n",
    "# Create a Dictionary from the articles: dictionary\n",
    "dictionary = Dictionary(no_punch)\n",
    "\n",
    "# Select the id for \"computer\": computer_id\n",
    "computer_id = dictionary.token2id.get(\"computer\")\n",
    "\n",
    "# Use computer_id with the dictionary to print the word\n",
    "print(dictionary.get(computer_id))\n",
    "\n",
    "# Create a MmCorpus: corpus\n",
    "corpus = [dictionary.doc2bow(article) for article in articles]\n",
    "\n",
    "# Print the first 10 word ids with their frequency counts from the fifth document\n",
    "print(corpus[4][:10])"
   ]
  },
  {
   "cell_type": "code",
   "execution_count": null,
   "metadata": {},
   "outputs": [],
   "source": [
    "# Save the fifth document: doc\n",
    "doc = corpus[4]\n",
    "\n",
    "# Sort the doc for frequency: bow_doc\n",
    "bow_doc = sorted(doc, key=lambda w: w[1], reverse=True)\n",
    "\n",
    "# Print the top 5 words of the document alongside the count\n",
    "for word_id, word_count in bow_doc[:5]:\n",
    "    print(dictionary.get(word_id), word_count)\n",
    "    \n",
    "# Create the defaultdict: total_word_count\n",
    "total_word_count = defaultdict(int)\n",
    "for word_id, word_count in itertools.chain.from_iterable(corpus):\n",
    "    total_word_count[word_id] += word_count\n",
    "    \n",
    "# Create a sorted list from the defaultdict: sorted_word_count\n",
    "sorted_word_count = sorted(total_word_count.items(), key=lambda w: w[1], reverse=True) \n",
    "\n",
    "# Print the top 5 words across all documents alongside the count\n",
    "for word_id, word_count in sorted_word_count[:5]:\n",
    "    print(dictionary.get(word_id), word_count)"
   ]
  },
  {
   "cell_type": "markdown",
   "metadata": {},
   "source": [
    "### Tf-idf with gensim"
   ]
  },
  {
   "cell_type": "markdown",
   "metadata": {},
   "source": [
    "**What is tf-idf?**\n",
    "- Term frequency - inverse document frequency\n",
    "- Allows you to determine the most important words in each document\n",
    "- Each corpus may have shared words beyond just stopwords\n",
    "- These words should be down-weighted in importance\n",
    "- Example from astronomy: \"Sky\"\n",
    "- Keeps document spesific frequent words weighted high"
   ]
  },
  {
   "cell_type": "code",
   "execution_count": 95,
   "metadata": {},
   "outputs": [
    {
     "data": {
      "text/plain": [
       "[(0, 0.16306765499075893),\n",
       " (1, 0.4215237732316469),\n",
       " (2, 0.4215237732316469),\n",
       " (3, 0.4215237732316469),\n",
       " (4, 0.4215237732316469),\n",
       " (5, 0.09538846325012906),\n",
       " (6, 0.4215237732316469),\n",
       " (7, 0.09538846325012906),\n",
       " (8, 0.258456118240888)]"
      ]
     },
     "execution_count": 95,
     "metadata": {},
     "output_type": "execute_result"
    }
   ],
   "source": [
    "from gensim.models.tfidfmodel import TfidfModel\n",
    "tfidf = TfidfModel(corpus)\n",
    "tfidf[corpus[0]]"
   ]
  },
  {
   "cell_type": "code",
   "execution_count": 99,
   "metadata": {},
   "outputs": [
    {
     "name": "stdout",
     "output_type": "stream",
     "text": [
      "[(0, 0.21609404904674648), (5, 0.12640691532134501), (7, 0.12640691532134501), (9, 0.12640691532134501), (10, 0.21609404904674648)]\n",
      "cool 0.558595013414838\n",
      "is 0.558595013414838\n",
      "liked 0.3425009643680915\n",
      "space 0.3425009643680915\n",
      ". 0.21609404904674648\n"
     ]
    }
   ],
   "source": [
    "from gensim.models.tfidfmodel import TfidfModel\n",
    "\n",
    "# Create a new TfidfModel using the corpus: tfidf\n",
    "tfidf = TfidfModel(corpus)\n",
    "doc = corpus[4]\n",
    "\n",
    "# Calculate the tfidf weights of doc: tfidf_weights\n",
    "tfidf_weights = tfidf[doc]\n",
    "\n",
    "# Print the first five weights\n",
    "print(tfidf_weights[:5])\n",
    "\n",
    "# Sort the weights from highest to lowest: sorted_tfidf_weights\n",
    "sorted_tfidf_weights = sorted(tfidf_weights, key=lambda w: w[1], reverse=True)\n",
    "\n",
    "# Print the top 5 weighted words\n",
    "for term_id, weight in sorted_tfidf_weights[:5]:\n",
    "    print(dictionary.get(term_id), weight)\n"
   ]
  },
  {
   "cell_type": "markdown",
   "metadata": {},
   "source": [
    "## Named entity recognition"
   ]
  },
  {
   "cell_type": "markdown",
   "metadata": {},
   "source": [
    "**What is named entity recognition?**\n",
    "- NLP tasks to identify important names entities in the text\n",
    "- Examples: \n",
    "    - People names\n",
    "    - Places\n",
    "    - Organizations\n",
    "    - Dates\n",
    "    - States\n",
    "    - Works of art\n",
    "    - etc\n",
    "- Can be used alongside topic identification\n",
    "- Who? What? Where? When? Why?\n",
    "\n",
    "**nltk and the Stanford CoreNLp Library**\n",
    "- The Stanford CoreNLP library: \n",
    "    - Integrated into Python via nltk\n",
    "    - Java based \n",
    "    - Support for NER as well as coreference and dependency parsing"
   ]
  },
  {
   "cell_type": "code",
   "execution_count": 102,
   "metadata": {},
   "outputs": [
    {
     "data": {
      "text/plain": [
       "[('In', 'IN'), ('New', 'NNP'), ('York', 'NNP')]"
      ]
     },
     "execution_count": 102,
     "metadata": {},
     "output_type": "execute_result"
    }
   ],
   "source": [
    "import nltk\n",
    "\n",
    "sentence = '''In New York, I loke to ride the Metro to visit MOMA\n",
    "            and some restaurants rated well by Ruth Reichl.'''\n",
    "tokenized_sent = nltk.word_tokenize(sentence)\n",
    "tagged_sent = nltk.pos_tag(tokenized_sent)\n",
    "tagged_sent[:3]"
   ]
  },
  {
   "cell_type": "code",
   "execution_count": null,
   "metadata": {},
   "outputs": [],
   "source": [
    "nltk.ne_chunk(tagged_sent)"
   ]
  },
  {
   "cell_type": "code",
   "execution_count": 110,
   "metadata": {},
   "outputs": [],
   "source": [
    "from nltk.tokenize import sent_tokenize, word_tokenize\n",
    "\n",
    "with open('News articles/uber_apple.txt', 'r', encoding=\"utf-8\") as f:\n",
    "    text = f.read()\n",
    "    # print(text)"
   ]
  },
  {
   "cell_type": "code",
   "execution_count": null,
   "metadata": {},
   "outputs": [],
   "source": [
    "sentences = sent_tokenize(text)\n",
    "token_sentences = [word_tokenize(sentence) for sentence in sentences]\n",
    "pos_sentences = [nltk.pos_tag(sentence) for sentence in token_sentences]\n",
    "chunked_sentences = nltk.ne_chunk_sents(pos_sentences, binary=True)\n",
    "\n",
    "for sent in chunked_sentences:\n",
    "    for chunck in sent:\n",
    "        if hasattr(chunk, \"label\") and chunck.label() == \"NE\":\n",
    "            print(chunk)"
   ]
  },
  {
   "cell_type": "code",
   "execution_count": null,
   "metadata": {},
   "outputs": [],
   "source": [
    "# Create the defaultdict: ner_categories\n",
    "ner_categories = defaultdict(int)\n",
    "\n",
    "# Create the nested for loop\n",
    "for sent in chunked_sentences:\n",
    "    for chunk in sent:\n",
    "        if hasattr(chunk, 'label'):\n",
    "            ner_categories[chunk.label()] += 1\n",
    "            \n",
    "# Create a list from the dictionary keys for the chart labels: labels\n",
    "labels = list(ner_categories.keys())\n",
    "\n",
    "# Create a list of the values: values\n",
    "values = [ner_categories.get(v) for v in labels]\n",
    "\n",
    "# Create the pie chart\n",
    "plt.pie(values, labels=labels, autopct='%1.1f%%', startangle=140)\n",
    "\n",
    "# Display the chart\n",
    "plt.show()"
   ]
  },
  {
   "cell_type": "markdown",
   "metadata": {},
   "source": [
    "### Introduction to SpaCy"
   ]
  },
  {
   "cell_type": "markdown",
   "metadata": {},
   "source": [
    "**What is SpaCy?**\n",
    "- NLP library similar to genim, with different implementations\n",
    "- Focus on creating NLP pipelines to generate models and corpora\n",
    "- Open-source, with extra libraries and tools\n",
    "    - Displacy -> Displacy entity recognition visualizer\n",
    "    "
   ]
  },
  {
   "cell_type": "code",
   "execution_count": 14,
   "metadata": {},
   "outputs": [],
   "source": [
    "import spacy\n",
    "\n",
    "nlp = spacy.load('en_core_web_sm')"
   ]
  },
  {
   "cell_type": "code",
   "execution_count": 16,
   "metadata": {},
   "outputs": [
    {
     "data": {
      "text/plain": [
       "(Berlin, Germany, Angela Merkel)"
      ]
     },
     "execution_count": 16,
     "metadata": {},
     "output_type": "execute_result"
    }
   ],
   "source": [
    "doc = nlp(\"\"\"Berlin is the capital of Germany;\n",
    "            and the residence of Chancellor Angela Merkel.\"\"\")\n",
    "doc.ents"
   ]
  },
  {
   "cell_type": "code",
   "execution_count": 20,
   "metadata": {},
   "outputs": [
    {
     "name": "stdout",
     "output_type": "stream",
     "text": [
      "Berlin GPE\n",
      "Germany GPE\n",
      "Angela Merkel PERSON\n"
     ]
    }
   ],
   "source": [
    "for ent in doc.ents:\n",
    "    print(ent.text, ent.label_)"
   ]
  },
  {
   "cell_type": "code",
   "execution_count": 18,
   "metadata": {},
   "outputs": [
    {
     "name": "stdout",
     "output_type": "stream",
     "text": [
      "Berlin GPE\n"
     ]
    }
   ],
   "source": [
    "print(doc.ents[0], doc.ents[0].label_)"
   ]
  },
  {
   "cell_type": "markdown",
   "metadata": {},
   "source": [
    "**Why use SpaCy for NER**\n",
    "- Easy pipeline creation\n",
    "- Different entity type compared to nltk\n",
    "- Informal language corpora\n",
    "    - Easily find entities in Tweets and chat messages\n",
    "- Quickly growing!"
   ]
  },
  {
   "cell_type": "code",
   "execution_count": 26,
   "metadata": {},
   "outputs": [
    {
     "name": "stdout",
     "output_type": "stream",
     "text": [
      "Apple ORG\n",
      "Travis Kalanick PERSON\n",
      "Tim Cook PERSON\n",
      "Apple ORG\n",
      "Millions CARDINAL\n",
      "Silicon Valley’s LOC\n",
      "Yahoo, Marissa Mayer ORG\n",
      "186 MONEY\n"
     ]
    },
    {
     "name": "stderr",
     "output_type": "stream",
     "text": [
      "d:\\Pemrograman\\Data-Science\\Datacamp\\lib\\site-packages\\spacy\\pipeline\\lemmatizer.py:211: UserWarning: [W108] The rule-based lemmatizer did not find POS annotation for one or more tokens. Check that your pipeline includes components that assign token.pos, typically 'tagger'+'attribute_ruler' or 'morphologizer'.\n",
      "  warnings.warn(Warnings.W108)\n"
     ]
    }
   ],
   "source": [
    "with open('News articles/uber_apple.txt', 'r', encoding=\"utf-8\") as f:\n",
    "    text = f.read()\n",
    "    # print(text)\n",
    "\n",
    "# Import spacy\n",
    "import spacy\n",
    "\n",
    "# Instantiate the English model: nlp\n",
    "nlp = spacy.load('en_core_web_sm', disable=['parser', 'tagger', 'matcher'])\n",
    "\n",
    "# Create a new document: doc\n",
    "doc = nlp(text)\n",
    "\n",
    "# Print all of the found entities and their labels\n",
    "for ent in doc.ents:\n",
    "    print(ent.text, ent.label_)\n"
   ]
  },
  {
   "cell_type": "markdown",
   "metadata": {},
   "source": [
    "### Multilingual NER with polyglot"
   ]
  },
  {
   "cell_type": "markdown",
   "metadata": {},
   "source": [
    "**What is polyglot?**\n",
    "- "
   ]
  }
 ],
 "metadata": {
  "interpreter": {
   "hash": "4341ac5ec60a9542c3a15523ee93bd766e0f5020e1b112e89a12e7d3c9acb29e"
  },
  "kernelspec": {
   "display_name": "Python 3.8.10 ('Datacamp': venv)",
   "language": "python",
   "name": "python3"
  },
  "language_info": {
   "codemirror_mode": {
    "name": "ipython",
    "version": 3
   },
   "file_extension": ".py",
   "mimetype": "text/x-python",
   "name": "python",
   "nbconvert_exporter": "python",
   "pygments_lexer": "ipython3",
   "version": "3.8.10"
  },
  "orig_nbformat": 4
 },
 "nbformat": 4,
 "nbformat_minor": 2
}
